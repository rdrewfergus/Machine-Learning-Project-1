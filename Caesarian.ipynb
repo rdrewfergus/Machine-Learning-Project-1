{
 "cells": [
  {
   "cell_type": "markdown",
   "metadata": {},
   "source": [
    "R Drew Fergus<br>\n",
    "Predictive_Modeling_and_Machine_Learning<br>\n",
    "\n",
    "\n",
    "##  The Data<br>\n",
    "    \n",
    "The data used in this project comes from the UCI Machine Learning repository. It contains information relating to caesarian births and can be retrieved from: http://archive.ics.uci.edu/ml/datasets/Caesarian+Section+Classification+Dataset. The data set is small, containing only 80 observations but it is of higher quality as there do not appear to be entry errors or missing data.\n",
    "\n",
    "##  The Questions<br>\n",
    "\n",
    "During this project I wanted to discover if it was possible to answer several questions from the data. Those questions are of three distinct types: quantatative, qualatative and one question without a specific response type.\n",
    "\n",
    "For the quantatative response I wanted to determine the probability or risk of having a C-section based on the other features in the data. The qualitative response involves predetermining if a birth is going to be done by C-section based on certain data features and threshold. The non specific response (unsupervised learning) was to cluster births to understand groups with the most and least amount of risk to need a birth by C-section.\n",
    "\n",
    "## The Process<br>\n",
    "\n",
    "The process for the quantative and qualatative questions were very similar and the general outline of how I approached them  can be found below. The unsupervised learning methods used for the question with no structured response were performed last. Other important notes on the process can be found in the below code as well.\n",
    "\n",
    "*  Load Data\n",
    "*  Summarize Data\n",
    "*  Descriptive statistics\n",
    "*  Data visualizations\n",
    "*  Prepare Data\n",
    "*  Spot Check Algorithms\n",
    "*  Compare Algorithms & Tuning\n",
    "*  Ensembles & Tuning\n",
    "*  Finalize Model\n",
    "*  Predictions on validation dataset\n",
    "*  Create standalone model\n",
    "*  PCA & KMeans Clustering\n",
    "\n",
    "\n",
    "## Conclusions<br>\n",
    "\n",
    "Overall, predictions can be made from the data, but not with a high degree of certainty. It is possible that more testing and algorithms could improve performance, but my reccomedations are below.\n",
    "\n",
    "There was moderate success in the quantatative or regression task. After comparing and tuning, the most successful algorithm and ensemnble was the AdaBoost regressor.\n",
    "\n",
    "The results from the qualatative or classification task were very close to those from the quantatative task. In this instance the most successful algorithm was the GaussianNB classifier. \n",
    "\n",
    "The results from the unsupervised task or task without a structured response showed that most of the variability in the data could not be accounted for by a small number of features. However, there was good success in clustering the observations from this data set into discrete groups.\n",
    "\n",
    "### Take Away and Recomendations\n",
    "\n",
    "Recommendations after completing this project are as follows:<br>\n",
    "\n",
    "* More data. This data set was very small and while statistical inferences can be made on smaller samples, more data would be advantageous.\n",
    "\n",
    "* More features or variables. Not only should we aquire a larger sample to study, but we should look for more variables dealing with caesarian births to see if there are additional and, possibly more important varibles that are not currently being tracked.\n",
    "\n",
    "* Some additional ideas for variables are: ethnicity, insurance type, country, region, hospital, language spoken, history of caesarian birth, sex of doctor, weight, etc. "
   ]
  },
  {
   "cell_type": "code",
   "execution_count": 1,
   "metadata": {},
   "outputs": [],
   "source": [
    "# Load libraries\n",
    "import numpy as np\n",
    "from numpy import set_printoptions\n",
    "from numpy import arange\n",
    "import pandas as pd\n",
    "from pandas import read_csv\n",
    "from pandas import set_option\n",
    "from pandas.plotting import scatter_matrix\n",
    "from matplotlib import pyplot\n",
    "import matplotlib.pyplot as plt\n",
    "import matplotlib.cbook as cbook\n",
    "from sklearn.cluster import KMeans\n",
    "from sklearn.decomposition import PCA\n",
    "from sklearn.discriminant_analysis import LinearDiscriminantAnalysis\n",
    "from sklearn.ensemble import RandomForestRegressor, GradientBoostingRegressor, ExtraTreesRegressor, AdaBoostRegressor \n",
    "from sklearn.ensemble import RandomForestClassifier, GradientBoostingClassifier, ExtraTreesClassifier, AdaBoostClassifier\n",
    "from sklearn.feature_selection import SelectKBest,chi2, RFE\n",
    "from sklearn.linear_model import LinearRegression, LogisticRegression, Lasso, ElasticNet\n",
    "from sklearn.metrics import mean_squared_error, classification_report, confusion_matrix,accuracy_score\n",
    "from sklearn.model_selection import train_test_split, KFold, cross_val_score, GridSearchCV\n",
    "from sklearn.naive_bayes import GaussianNB\n",
    "from sklearn.neighbors import KNeighborsRegressor, KNeighborsClassifier\n",
    "from sklearn.pipeline import Pipeline\n",
    "from sklearn.preprocessing import StandardScaler, scale\n",
    "from sklearn.svm import SVR, SVC\n",
    "from sklearn.tree import DecisionTreeRegressor, DecisionTreeClassifier\n",
    "from scipy.io.arff import loadarff\n",
    "import seaborn as sns\n",
    "import warnings\n",
    "warnings.filterwarnings('ignore')"
   ]
  },
  {
   "cell_type": "code",
   "execution_count": 2,
   "metadata": {},
   "outputs": [],
   "source": [
    "file = loadarff('C:\\\\Users\\\\Fergus Family\\\\Desktop\\\\School\\\\DATA SETS\\\\caesarian.csv.arff')\n",
    "df = pd.DataFrame(file[0])"
   ]
  },
  {
   "cell_type": "code",
   "execution_count": 3,
   "metadata": {},
   "outputs": [],
   "source": [
    "df= df.replace(r'\\D', '').astype(int)"
   ]
  },
  {
   "cell_type": "code",
   "execution_count": 4,
   "metadata": {},
   "outputs": [],
   "source": [
    "# df.to_csv('n_caesarian.csv')"
   ]
  },
  {
   "cell_type": "code",
   "execution_count": 5,
   "metadata": {},
   "outputs": [
    {
     "name": "stdout",
     "output_type": "stream",
     "text": [
      "<class 'pandas.core.frame.DataFrame'>\n",
      "Int64Index: 80 entries, 0 to 79\n",
      "Data columns (total 6 columns):\n",
      "Age                  80 non-null float64\n",
      "Delivery number      80 non-null float64\n",
      "Delivery time        80 non-null float64\n",
      "Blood of Pressure    80 non-null float64\n",
      "Heart Problem        80 non-null float64\n",
      "Caesarian            80 non-null float64\n",
      "dtypes: float64(6)\n",
      "memory usage: 4.4 KB\n"
     ]
    }
   ],
   "source": [
    "# Load dataset\n",
    "filename = 'C:\\\\Users\\\\Fergus Family\\\\Desktop\\\\School\\\\DATA SETS\\\\n_caesarian.csv'\n",
    "names = ['Age', 'Delivery number', 'Delivery time', 'Blood of Pressure', 'Heart Problem', 'Caesarian']\n",
    "dataset = read_csv(filename, names=names, header=0 )\n",
    "dataset = dataset.astype(float)\n",
    "dataset.info()"
   ]
  },
  {
   "cell_type": "code",
   "execution_count": 6,
   "metadata": {},
   "outputs": [
    {
     "data": {
      "text/html": [
       "<div>\n",
       "<style scoped>\n",
       "    .dataframe tbody tr th:only-of-type {\n",
       "        vertical-align: middle;\n",
       "    }\n",
       "\n",
       "    .dataframe tbody tr th {\n",
       "        vertical-align: top;\n",
       "    }\n",
       "\n",
       "    .dataframe thead th {\n",
       "        text-align: right;\n",
       "    }\n",
       "</style>\n",
       "<table border=\"1\" class=\"dataframe\">\n",
       "  <thead>\n",
       "    <tr style=\"text-align: right;\">\n",
       "      <th></th>\n",
       "      <th>Age</th>\n",
       "      <th>Delivery number</th>\n",
       "      <th>Delivery time</th>\n",
       "      <th>Blood of Pressure</th>\n",
       "      <th>Heart Problem</th>\n",
       "      <th>Caesarian</th>\n",
       "    </tr>\n",
       "  </thead>\n",
       "  <tbody>\n",
       "    <tr>\n",
       "      <th>count</th>\n",
       "      <td>80.000000</td>\n",
       "      <td>80.000000</td>\n",
       "      <td>80.000000</td>\n",
       "      <td>80.000000</td>\n",
       "      <td>80.000000</td>\n",
       "      <td>80.000000</td>\n",
       "    </tr>\n",
       "    <tr>\n",
       "      <th>mean</th>\n",
       "      <td>27.687500</td>\n",
       "      <td>1.662500</td>\n",
       "      <td>0.637500</td>\n",
       "      <td>1.000000</td>\n",
       "      <td>0.375000</td>\n",
       "      <td>0.575000</td>\n",
       "    </tr>\n",
       "    <tr>\n",
       "      <th>std</th>\n",
       "      <td>5.017927</td>\n",
       "      <td>0.794662</td>\n",
       "      <td>0.815107</td>\n",
       "      <td>0.711568</td>\n",
       "      <td>0.487177</td>\n",
       "      <td>0.497462</td>\n",
       "    </tr>\n",
       "    <tr>\n",
       "      <th>min</th>\n",
       "      <td>17.000000</td>\n",
       "      <td>1.000000</td>\n",
       "      <td>0.000000</td>\n",
       "      <td>0.000000</td>\n",
       "      <td>0.000000</td>\n",
       "      <td>0.000000</td>\n",
       "    </tr>\n",
       "    <tr>\n",
       "      <th>25%</th>\n",
       "      <td>25.000000</td>\n",
       "      <td>1.000000</td>\n",
       "      <td>0.000000</td>\n",
       "      <td>0.750000</td>\n",
       "      <td>0.000000</td>\n",
       "      <td>0.000000</td>\n",
       "    </tr>\n",
       "    <tr>\n",
       "      <th>50%</th>\n",
       "      <td>27.000000</td>\n",
       "      <td>1.000000</td>\n",
       "      <td>0.000000</td>\n",
       "      <td>1.000000</td>\n",
       "      <td>0.000000</td>\n",
       "      <td>1.000000</td>\n",
       "    </tr>\n",
       "    <tr>\n",
       "      <th>75%</th>\n",
       "      <td>32.000000</td>\n",
       "      <td>2.000000</td>\n",
       "      <td>1.000000</td>\n",
       "      <td>1.250000</td>\n",
       "      <td>1.000000</td>\n",
       "      <td>1.000000</td>\n",
       "    </tr>\n",
       "    <tr>\n",
       "      <th>max</th>\n",
       "      <td>40.000000</td>\n",
       "      <td>4.000000</td>\n",
       "      <td>2.000000</td>\n",
       "      <td>2.000000</td>\n",
       "      <td>1.000000</td>\n",
       "      <td>1.000000</td>\n",
       "    </tr>\n",
       "  </tbody>\n",
       "</table>\n",
       "</div>"
      ],
      "text/plain": [
       "             Age  Delivery number  Delivery time  Blood of Pressure  \\\n",
       "count  80.000000        80.000000      80.000000          80.000000   \n",
       "mean   27.687500         1.662500       0.637500           1.000000   \n",
       "std     5.017927         0.794662       0.815107           0.711568   \n",
       "min    17.000000         1.000000       0.000000           0.000000   \n",
       "25%    25.000000         1.000000       0.000000           0.750000   \n",
       "50%    27.000000         1.000000       0.000000           1.000000   \n",
       "75%    32.000000         2.000000       1.000000           1.250000   \n",
       "max    40.000000         4.000000       2.000000           2.000000   \n",
       "\n",
       "       Heart Problem  Caesarian  \n",
       "count      80.000000  80.000000  \n",
       "mean        0.375000   0.575000  \n",
       "std         0.487177   0.497462  \n",
       "min         0.000000   0.000000  \n",
       "25%         0.000000   0.000000  \n",
       "50%         0.000000   1.000000  \n",
       "75%         1.000000   1.000000  \n",
       "max         1.000000   1.000000  "
      ]
     },
     "execution_count": 6,
     "metadata": {},
     "output_type": "execute_result"
    }
   ],
   "source": [
    "# descriptions\n",
    "dataset.describe()"
   ]
  },
  {
   "cell_type": "code",
   "execution_count": 7,
   "metadata": {},
   "outputs": [
    {
     "name": "stdout",
     "output_type": "stream",
     "text": [
      "(80, 6)\n"
     ]
    }
   ],
   "source": [
    "# shape\n",
    "print(dataset.shape)"
   ]
  },
  {
   "cell_type": "code",
   "execution_count": 8,
   "metadata": {},
   "outputs": [
    {
     "data": {
      "text/html": [
       "<div>\n",
       "<style scoped>\n",
       "    .dataframe tbody tr th:only-of-type {\n",
       "        vertical-align: middle;\n",
       "    }\n",
       "\n",
       "    .dataframe tbody tr th {\n",
       "        vertical-align: top;\n",
       "    }\n",
       "\n",
       "    .dataframe thead th {\n",
       "        text-align: right;\n",
       "    }\n",
       "</style>\n",
       "<table border=\"1\" class=\"dataframe\">\n",
       "  <thead>\n",
       "    <tr style=\"text-align: right;\">\n",
       "      <th></th>\n",
       "      <th>Age</th>\n",
       "      <th>Delivery number</th>\n",
       "      <th>Delivery time</th>\n",
       "      <th>Blood of Pressure</th>\n",
       "      <th>Heart Problem</th>\n",
       "      <th>Caesarian</th>\n",
       "    </tr>\n",
       "  </thead>\n",
       "  <tbody>\n",
       "    <tr>\n",
       "      <th>Age</th>\n",
       "      <td>1.000000</td>\n",
       "      <td>0.427160</td>\n",
       "      <td>-0.021857</td>\n",
       "      <td>0.074448</td>\n",
       "      <td>0.250485</td>\n",
       "      <td>0.077966</td>\n",
       "    </tr>\n",
       "    <tr>\n",
       "      <th>Delivery number</th>\n",
       "      <td>0.427160</td>\n",
       "      <td>1.000000</td>\n",
       "      <td>-0.074017</td>\n",
       "      <td>0.134315</td>\n",
       "      <td>0.200267</td>\n",
       "      <td>0.144894</td>\n",
       "    </tr>\n",
       "    <tr>\n",
       "      <th>Delivery time</th>\n",
       "      <td>-0.021857</td>\n",
       "      <td>-0.074017</td>\n",
       "      <td>1.000000</td>\n",
       "      <td>-0.087298</td>\n",
       "      <td>-0.003985</td>\n",
       "      <td>-0.166233</td>\n",
       "    </tr>\n",
       "    <tr>\n",
       "      <th>Blood of Pressure</th>\n",
       "      <td>0.074448</td>\n",
       "      <td>0.134315</td>\n",
       "      <td>-0.087298</td>\n",
       "      <td>1.000000</td>\n",
       "      <td>0.036515</td>\n",
       "      <td>-0.035760</td>\n",
       "    </tr>\n",
       "    <tr>\n",
       "      <th>Heart Problem</th>\n",
       "      <td>0.250485</td>\n",
       "      <td>0.200267</td>\n",
       "      <td>-0.003985</td>\n",
       "      <td>0.036515</td>\n",
       "      <td>1.000000</td>\n",
       "      <td>0.352557</td>\n",
       "    </tr>\n",
       "    <tr>\n",
       "      <th>Caesarian</th>\n",
       "      <td>0.077966</td>\n",
       "      <td>0.144894</td>\n",
       "      <td>-0.166233</td>\n",
       "      <td>-0.035760</td>\n",
       "      <td>0.352557</td>\n",
       "      <td>1.000000</td>\n",
       "    </tr>\n",
       "  </tbody>\n",
       "</table>\n",
       "</div>"
      ],
      "text/plain": [
       "                        Age  Delivery number  Delivery time  \\\n",
       "Age                1.000000         0.427160      -0.021857   \n",
       "Delivery number    0.427160         1.000000      -0.074017   \n",
       "Delivery time     -0.021857        -0.074017       1.000000   \n",
       "Blood of Pressure  0.074448         0.134315      -0.087298   \n",
       "Heart Problem      0.250485         0.200267      -0.003985   \n",
       "Caesarian          0.077966         0.144894      -0.166233   \n",
       "\n",
       "                   Blood of Pressure  Heart Problem  Caesarian  \n",
       "Age                         0.074448       0.250485   0.077966  \n",
       "Delivery number             0.134315       0.200267   0.144894  \n",
       "Delivery time              -0.087298      -0.003985  -0.166233  \n",
       "Blood of Pressure           1.000000       0.036515  -0.035760  \n",
       "Heart Problem               0.036515       1.000000   0.352557  \n",
       "Caesarian                  -0.035760       0.352557   1.000000  "
      ]
     },
     "execution_count": 8,
     "metadata": {},
     "output_type": "execute_result"
    }
   ],
   "source": [
    "# correlation\n",
    "dataset.corr()"
   ]
  },
  {
   "cell_type": "code",
   "execution_count": 9,
   "metadata": {},
   "outputs": [
    {
     "data": {
      "image/png": "[encoded data removed]",
      "text/plain": [
       "<Figure size 432x288 with 6 Axes>"
      ]
     },
     "metadata": {
      "needs_background": "light"
     },
     "output_type": "display_data"
    }
   ],
   "source": [
    "# histograms\n",
    "dataset.hist(sharex=False, sharey=False, xlabelsize=1, ylabelsize=1)\n",
    "pyplot.show()"
   ]
  },
  {
   "cell_type": "code",
   "execution_count": 10,
   "metadata": {},
   "outputs": [
    {
     "data": {
      "image/png": "[encoded data removed]",
      "text/plain": [
       "<Figure size 432x288 with 6 Axes>"
      ]
     },
     "metadata": {
      "needs_background": "light"
     },
     "output_type": "display_data"
    }
   ],
   "source": [
    "# box and whisker plots\n",
    "dataset.plot(kind='box', subplots=True, layout=(2,3), sharex=False, sharey=False,\n",
    "fontsize=8)\n",
    "pyplot.show()"
   ]
  },
  {
   "cell_type": "code",
   "execution_count": 11,
   "metadata": {},
   "outputs": [
    {
     "data": {
      "image/png": "[encoded data removed]",
      "text/plain": [
       "<Figure size 432x288 with 36 Axes>"
      ]
     },
     "metadata": {
      "needs_background": "light"
     },
     "output_type": "display_data"
    }
   ],
   "source": [
    "# pairplots\n",
    "scatter_matrix(dataset)\n",
    "pyplot.show()"
   ]
  },
  {
   "cell_type": "code",
   "execution_count": 12,
   "metadata": {},
   "outputs": [
    {
     "data": {
      "image/png": "[encoded data removed]",
      "text/plain": [
       "<Figure size 432x288 with 2 Axes>"
      ]
     },
     "metadata": {
      "needs_background": "light"
     },
     "output_type": "display_data"
    }
   ],
   "source": [
    "# correlation matrix\n",
    "fig = pyplot.figure()\n",
    "ax = fig.add_subplot(111)\n",
    "cax = ax.matshow(dataset.corr(), vmin=-1, vmax=1, interpolation='none')\n",
    "fig.colorbar(cax)\n",
    "pyplot.show()"
   ]
  },
  {
   "cell_type": "markdown",
   "metadata": {},
   "source": [
    "Because this data set had so few features I had intended to keep them all, but after considering this matrix and some of the other correlations I created another dataframe without the 'Deleivery time' variable."
   ]
  },
  {
   "cell_type": "code",
   "execution_count": 13,
   "metadata": {},
   "outputs": [],
   "source": [
    "# New Data set without 'Delivery time'\n",
    "data2 = dataset.drop('Delivery time', axis=1)\n",
    "names2 = ['Age', 'Delivery number', 'Blood of Pressure', 'Heart Problem', 'Caesarian']"
   ]
  },
  {
   "cell_type": "code",
   "execution_count": 14,
   "metadata": {},
   "outputs": [
    {
     "data": {
      "image/png": "[encoded data removed]",
      "text/plain": [
       "<Figure size 432x288 with 2 Axes>"
      ]
     },
     "metadata": {
      "needs_background": "light"
     },
     "output_type": "display_data"
    }
   ],
   "source": [
    "# NEW correlation matrix\n",
    "fig = pyplot.figure()\n",
    "ax = fig.add_subplot(111)\n",
    "cax = ax.matshow(data2.corr(), vmin=-1, vmax=1, interpolation='none')\n",
    "fig.colorbar(cax)\n",
    "pyplot.show()"
   ]
  },
  {
   "cell_type": "code",
   "execution_count": 15,
   "metadata": {},
   "outputs": [
    {
     "data": {
      "image/png": "[encoded data removed]",
      "text/plain": [
       "<Figure size 432x288 with 1 Axes>"
      ]
     },
     "metadata": {
      "needs_background": "light"
     },
     "output_type": "display_data"
    }
   ],
   "source": [
    "# Basic plot to visualize several features\n",
    "a= data2['Age']\n",
    "b= data2['Delivery number']\n",
    "fig, ax = plt.subplots()\n",
    "ax.scatter( a,b, c= data2['Caesarian'], alpha=0.9)\n",
    "\n",
    "ax.set_title('Caesarian Births')\n",
    "\n",
    "ax.grid(True)\n",
    "fig.tight_layout()\n",
    "\n",
    "plt.show()"
   ]
  },
  {
   "cell_type": "code",
   "execution_count": 16,
   "metadata": {},
   "outputs": [],
   "source": [
    "# Split-out validation dataset\n",
    "array = data2.values\n",
    "X = array[:,0:4]\n",
    "Y = array[:, 4:]\n",
    "validation_size = 0.20\n",
    "seed = 7\n",
    "X_train, X_validation, Y_train, Y_validation = train_test_split(X, Y,\n",
    "test_size=validation_size, random_state=seed)"
   ]
  },
  {
   "cell_type": "code",
   "execution_count": 17,
   "metadata": {},
   "outputs": [],
   "source": [
    "# Test options and evaluation metric\n",
    "num_folds = 10\n",
    "seed = 7\n",
    "scoring = 'neg_mean_squared_error'"
   ]
  },
  {
   "cell_type": "markdown",
   "metadata": {},
   "source": [
    "I use Elastic Net for this project as it is something of a hybrid or \n",
    "compromise between Ridge regression and Lasso."
   ]
  },
  {
   "cell_type": "code",
   "execution_count": 18,
   "metadata": {},
   "outputs": [],
   "source": [
    "#Regression"
   ]
  },
  {
   "cell_type": "code",
   "execution_count": 19,
   "metadata": {},
   "outputs": [],
   "source": [
    "# Spot-Check Algorithms\n",
    "models = []\n",
    "models.append(('LR', LinearRegression()))\n",
    "models.append(('LASSO', Lasso()))\n",
    "models.append(('EN', ElasticNet()))\n",
    "models.append(('KNN', KNeighborsRegressor()))\n",
    "models.append(('CART', DecisionTreeRegressor()))\n",
    "models.append(('SVR', SVR(gamma='auto')))"
   ]
  },
  {
   "cell_type": "code",
   "execution_count": 20,
   "metadata": {},
   "outputs": [
    {
     "name": "stdout",
     "output_type": "stream",
     "text": [
      "LR: -0.247969 (0.091670)\n",
      "LASSO: -0.249012 (0.049387)\n",
      "EN: -0.249012 (0.049387)\n",
      "KNN: -0.344667 (0.118248)\n",
      "CART: -0.472024 (0.126327)\n",
      "SVR: -0.298000 (0.134138)\n"
     ]
    }
   ],
   "source": [
    "# evaluate each model in turn\n",
    "results = []\n",
    "names = []\n",
    "for name, model in models:\n",
    "    kfold = KFold(n_splits=num_folds, random_state=seed)\n",
    "    cv_results = cross_val_score(model, X_train, Y_train.ravel(), cv=kfold, scoring=scoring)\n",
    "    results.append(cv_results)\n",
    "    names.append(name)\n",
    "    msg = \"%s: %f (%f)\" % (name, cv_results.mean(), cv_results.std())\n",
    "    print(msg)"
   ]
  },
  {
   "cell_type": "code",
   "execution_count": 21,
   "metadata": {},
   "outputs": [
    {
     "data": {
      "image/png": "[encoded data removed]",
      "text/plain": [
       "<Figure size 432x288 with 1 Axes>"
      ]
     },
     "metadata": {
      "needs_background": "light"
     },
     "output_type": "display_data"
    }
   ],
   "source": [
    "# Compare Algorithms\n",
    "fig = pyplot.figure()\n",
    "fig.suptitle('Algorithm Comparison')\n",
    "ax = fig.add_subplot(111)\n",
    "pyplot.boxplot(results)\n",
    "ax.set_xticklabels(names)\n",
    "pyplot.show()"
   ]
  },
  {
   "cell_type": "code",
   "execution_count": 22,
   "metadata": {},
   "outputs": [
    {
     "name": "stdout",
     "output_type": "stream",
     "text": [
      "ScaledLR: -0.247969 (0.091670)\n",
      "ScaledLASSO: -0.249012 (0.049387)\n",
      "ScaledEN: -0.249012 (0.049387)\n",
      "ScaledKNN: -0.306952 (0.083793)\n",
      "ScaledCART: -0.443452 (0.160587)\n",
      "ScaledSVR: -0.335462 (0.133105)\n"
     ]
    }
   ],
   "source": [
    "# Standardize the dataset\n",
    "pipelines = []\n",
    "pipelines.append(('ScaledLR', Pipeline([('Scaler', StandardScaler()),('LR',\n",
    "LinearRegression())])))\n",
    "pipelines.append(('ScaledLASSO', Pipeline([('Scaler', StandardScaler()),('LASSO',\n",
    "Lasso())])))\n",
    "pipelines.append(('ScaledEN', Pipeline([('Scaler', StandardScaler()),('EN',\n",
    "ElasticNet())])))\n",
    "pipelines.append(('ScaledKNN', Pipeline([('Scaler', StandardScaler()),('KNN',\n",
    "KNeighborsRegressor())])))\n",
    "pipelines.append(('ScaledCART', Pipeline([('Scaler', StandardScaler()),('CART',\n",
    "DecisionTreeRegressor())])))\n",
    "pipelines.append(('ScaledSVR', Pipeline([('Scaler', StandardScaler()),('SVR', SVR())])))\n",
    "results = []\n",
    "names = []\n",
    "for name, model in pipelines:\n",
    "    kfold = KFold(n_splits=num_folds, random_state=seed)\n",
    "    cv_results = cross_val_score(model, X_train, Y_train.ravel(), cv=kfold, scoring=scoring)\n",
    "    results.append(cv_results)\n",
    "    names.append(name)\n",
    "    msg = \"%s: %f (%f)\" % (name, cv_results.mean(), cv_results.std())\n",
    "    print(msg)"
   ]
  },
  {
   "cell_type": "markdown",
   "metadata": {},
   "source": [
    "Loooking at the models Lasso and Elastic Net are identical. From here I optimize Elastic Net and, just to compare, I also optimised KNN."
   ]
  },
  {
   "cell_type": "code",
   "execution_count": 23,
   "metadata": {},
   "outputs": [
    {
     "name": "stdout",
     "output_type": "stream",
     "text": [
      "Best: -0.232886 using {'alpha': 0.1, 'l1_ratio': 0.5, 'max_iter': 15}\n",
      "-0.243873 (0.090948) with: {'alpha': 0.01, 'l1_ratio': 0.0, 'max_iter': 15}\n",
      "-0.243873 (0.090948) with: {'alpha': 0.01, 'l1_ratio': 0.0, 'max_iter': 10}\n",
      "-0.243873 (0.090948) with: {'alpha': 0.01, 'l1_ratio': 0.0, 'max_iter': 25}\n",
      "-0.243461 (0.090217) with: {'alpha': 0.01, 'l1_ratio': 0.1, 'max_iter': 15}\n",
      "-0.243461 (0.090217) with: {'alpha': 0.01, 'l1_ratio': 0.1, 'max_iter': 10}\n",
      "-0.243461 (0.090217) with: {'alpha': 0.01, 'l1_ratio': 0.1, 'max_iter': 25}\n",
      "-0.243051 (0.089489) with: {'alpha': 0.01, 'l1_ratio': 0.2, 'max_iter': 15}\n",
      "-0.243051 (0.089489) with: {'alpha': 0.01, 'l1_ratio': 0.2, 'max_iter': 10}\n",
      "-0.243051 (0.089489) with: {'alpha': 0.01, 'l1_ratio': 0.2, 'max_iter': 25}\n",
      "-0.242653 (0.088761) with: {'alpha': 0.01, 'l1_ratio': 0.30000000000000004, 'max_iter': 15}\n",
      "-0.242653 (0.088761) with: {'alpha': 0.01, 'l1_ratio': 0.30000000000000004, 'max_iter': 10}\n",
      "-0.242653 (0.088761) with: {'alpha': 0.01, 'l1_ratio': 0.30000000000000004, 'max_iter': 25}\n",
      "-0.242267 (0.088033) with: {'alpha': 0.01, 'l1_ratio': 0.4, 'max_iter': 15}\n",
      "-0.242267 (0.088033) with: {'alpha': 0.01, 'l1_ratio': 0.4, 'max_iter': 10}\n",
      "-0.242267 (0.088033) with: {'alpha': 0.01, 'l1_ratio': 0.4, 'max_iter': 25}\n",
      "-0.241893 (0.087304) with: {'alpha': 0.01, 'l1_ratio': 0.5, 'max_iter': 15}\n",
      "-0.241893 (0.087304) with: {'alpha': 0.01, 'l1_ratio': 0.5, 'max_iter': 10}\n",
      "-0.241893 (0.087304) with: {'alpha': 0.01, 'l1_ratio': 0.5, 'max_iter': 25}\n",
      "-0.241482 (0.086730) with: {'alpha': 0.01, 'l1_ratio': 0.6000000000000001, 'max_iter': 15}\n",
      "-0.241482 (0.086730) with: {'alpha': 0.01, 'l1_ratio': 0.6000000000000001, 'max_iter': 10}\n",
      "-0.241482 (0.086730) with: {'alpha': 0.01, 'l1_ratio': 0.6000000000000001, 'max_iter': 25}\n",
      "-0.241147 (0.086250) with: {'alpha': 0.01, 'l1_ratio': 0.7000000000000001, 'max_iter': 15}\n",
      "-0.241147 (0.086250) with: {'alpha': 0.01, 'l1_ratio': 0.7000000000000001, 'max_iter': 10}\n",
      "-0.241147 (0.086250) with: {'alpha': 0.01, 'l1_ratio': 0.7000000000000001, 'max_iter': 25}\n",
      "-0.240809 (0.085797) with: {'alpha': 0.01, 'l1_ratio': 0.8, 'max_iter': 15}\n",
      "-0.240809 (0.085797) with: {'alpha': 0.01, 'l1_ratio': 0.8, 'max_iter': 10}\n",
      "-0.240809 (0.085797) with: {'alpha': 0.01, 'l1_ratio': 0.8, 'max_iter': 25}\n",
      "-0.240435 (0.085353) with: {'alpha': 0.01, 'l1_ratio': 0.9, 'max_iter': 15}\n",
      "-0.240435 (0.085353) with: {'alpha': 0.01, 'l1_ratio': 0.9, 'max_iter': 10}\n",
      "-0.240435 (0.085353) with: {'alpha': 0.01, 'l1_ratio': 0.9, 'max_iter': 25}\n",
      "-0.241730 (0.086787) with: {'alpha': 0.1, 'l1_ratio': 0.0, 'max_iter': 15}\n",
      "-0.241730 (0.086787) with: {'alpha': 0.1, 'l1_ratio': 0.0, 'max_iter': 10}\n",
      "-0.241730 (0.086787) with: {'alpha': 0.1, 'l1_ratio': 0.0, 'max_iter': 25}\n",
      "-0.238265 (0.081121) with: {'alpha': 0.1, 'l1_ratio': 0.1, 'max_iter': 15}\n",
      "-0.238265 (0.081121) with: {'alpha': 0.1, 'l1_ratio': 0.1, 'max_iter': 10}\n",
      "-0.238265 (0.081121) with: {'alpha': 0.1, 'l1_ratio': 0.1, 'max_iter': 25}\n",
      "-0.235883 (0.077272) with: {'alpha': 0.1, 'l1_ratio': 0.2, 'max_iter': 15}\n",
      "-0.235883 (0.077272) with: {'alpha': 0.1, 'l1_ratio': 0.2, 'max_iter': 10}\n",
      "-0.235883 (0.077272) with: {'alpha': 0.1, 'l1_ratio': 0.2, 'max_iter': 25}\n",
      "-0.234572 (0.073529) with: {'alpha': 0.1, 'l1_ratio': 0.30000000000000004, 'max_iter': 15}\n",
      "-0.234572 (0.073529) with: {'alpha': 0.1, 'l1_ratio': 0.30000000000000004, 'max_iter': 10}\n",
      "-0.234572 (0.073529) with: {'alpha': 0.1, 'l1_ratio': 0.30000000000000004, 'max_iter': 25}\n",
      "-0.233571 (0.069342) with: {'alpha': 0.1, 'l1_ratio': 0.4, 'max_iter': 15}\n",
      "-0.233571 (0.069342) with: {'alpha': 0.1, 'l1_ratio': 0.4, 'max_iter': 10}\n",
      "-0.233571 (0.069342) with: {'alpha': 0.1, 'l1_ratio': 0.4, 'max_iter': 25}\n",
      "-0.232886 (0.065845) with: {'alpha': 0.1, 'l1_ratio': 0.5, 'max_iter': 15}\n",
      "-0.232886 (0.065845) with: {'alpha': 0.1, 'l1_ratio': 0.5, 'max_iter': 10}\n",
      "-0.232886 (0.065845) with: {'alpha': 0.1, 'l1_ratio': 0.5, 'max_iter': 25}\n",
      "-0.233730 (0.063327) with: {'alpha': 0.1, 'l1_ratio': 0.6000000000000001, 'max_iter': 15}\n",
      "-0.233730 (0.063327) with: {'alpha': 0.1, 'l1_ratio': 0.6000000000000001, 'max_iter': 10}\n",
      "-0.233730 (0.063327) with: {'alpha': 0.1, 'l1_ratio': 0.6000000000000001, 'max_iter': 25}\n",
      "-0.235448 (0.060610) with: {'alpha': 0.1, 'l1_ratio': 0.7000000000000001, 'max_iter': 15}\n",
      "-0.235448 (0.060610) with: {'alpha': 0.1, 'l1_ratio': 0.7000000000000001, 'max_iter': 10}\n",
      "-0.235448 (0.060610) with: {'alpha': 0.1, 'l1_ratio': 0.7000000000000001, 'max_iter': 25}\n",
      "-0.237388 (0.057953) with: {'alpha': 0.1, 'l1_ratio': 0.8, 'max_iter': 15}\n",
      "-0.237388 (0.057953) with: {'alpha': 0.1, 'l1_ratio': 0.8, 'max_iter': 10}\n",
      "-0.237388 (0.057953) with: {'alpha': 0.1, 'l1_ratio': 0.8, 'max_iter': 25}\n",
      "-0.239558 (0.055390) with: {'alpha': 0.1, 'l1_ratio': 0.9, 'max_iter': 15}\n",
      "-0.239558 (0.055390) with: {'alpha': 0.1, 'l1_ratio': 0.9, 'max_iter': 10}\n",
      "-0.239558 (0.055390) with: {'alpha': 0.1, 'l1_ratio': 0.9, 'max_iter': 25}\n",
      "-0.238587 (0.075169) with: {'alpha': 0.5, 'l1_ratio': 0.0, 'max_iter': 15}\n",
      "-0.238587 (0.075169) with: {'alpha': 0.5, 'l1_ratio': 0.0, 'max_iter': 10}\n",
      "-0.238587 (0.075169) with: {'alpha': 0.5, 'l1_ratio': 0.0, 'max_iter': 25}\n",
      "-0.235451 (0.059545) with: {'alpha': 0.5, 'l1_ratio': 0.1, 'max_iter': 15}\n",
      "-0.235451 (0.059545) with: {'alpha': 0.5, 'l1_ratio': 0.1, 'max_iter': 10}\n",
      "-0.235451 (0.059545) with: {'alpha': 0.5, 'l1_ratio': 0.1, 'max_iter': 25}\n",
      "-0.243134 (0.051218) with: {'alpha': 0.5, 'l1_ratio': 0.2, 'max_iter': 15}\n",
      "-0.243134 (0.051218) with: {'alpha': 0.5, 'l1_ratio': 0.2, 'max_iter': 10}\n",
      "-0.243134 (0.051218) with: {'alpha': 0.5, 'l1_ratio': 0.2, 'max_iter': 25}\n",
      "-0.248700 (0.049126) with: {'alpha': 0.5, 'l1_ratio': 0.30000000000000004, 'max_iter': 15}\n",
      "-0.248700 (0.049126) with: {'alpha': 0.5, 'l1_ratio': 0.30000000000000004, 'max_iter': 10}\n",
      "-0.248700 (0.049126) with: {'alpha': 0.5, 'l1_ratio': 0.30000000000000004, 'max_iter': 25}\n",
      "-0.248185 (0.048711) with: {'alpha': 0.5, 'l1_ratio': 0.4, 'max_iter': 15}\n",
      "-0.248185 (0.048711) with: {'alpha': 0.5, 'l1_ratio': 0.4, 'max_iter': 10}\n",
      "-0.248185 (0.048711) with: {'alpha': 0.5, 'l1_ratio': 0.4, 'max_iter': 25}\n",
      "-0.248185 (0.048711) with: {'alpha': 0.5, 'l1_ratio': 0.5, 'max_iter': 15}\n",
      "-0.248185 (0.048711) with: {'alpha': 0.5, 'l1_ratio': 0.5, 'max_iter': 10}\n",
      "-0.248185 (0.048711) with: {'alpha': 0.5, 'l1_ratio': 0.5, 'max_iter': 25}\n",
      "-0.248185 (0.048711) with: {'alpha': 0.5, 'l1_ratio': 0.6000000000000001, 'max_iter': 15}\n",
      "-0.248185 (0.048711) with: {'alpha': 0.5, 'l1_ratio': 0.6000000000000001, 'max_iter': 10}\n",
      "-0.248185 (0.048711) with: {'alpha': 0.5, 'l1_ratio': 0.6000000000000001, 'max_iter': 25}\n",
      "-0.248185 (0.048711) with: {'alpha': 0.5, 'l1_ratio': 0.7000000000000001, 'max_iter': 15}\n",
      "-0.248185 (0.048711) with: {'alpha': 0.5, 'l1_ratio': 0.7000000000000001, 'max_iter': 10}\n",
      "-0.248185 (0.048711) with: {'alpha': 0.5, 'l1_ratio': 0.7000000000000001, 'max_iter': 25}\n",
      "-0.248185 (0.048711) with: {'alpha': 0.5, 'l1_ratio': 0.8, 'max_iter': 15}\n",
      "-0.248185 (0.048711) with: {'alpha': 0.5, 'l1_ratio': 0.8, 'max_iter': 10}\n",
      "-0.248185 (0.048711) with: {'alpha': 0.5, 'l1_ratio': 0.8, 'max_iter': 25}\n",
      "-0.248185 (0.048711) with: {'alpha': 0.5, 'l1_ratio': 0.9, 'max_iter': 15}\n",
      "-0.248185 (0.048711) with: {'alpha': 0.5, 'l1_ratio': 0.9, 'max_iter': 10}\n",
      "-0.248185 (0.048711) with: {'alpha': 0.5, 'l1_ratio': 0.9, 'max_iter': 25}\n"
     ]
    }
   ],
   "source": [
    "# EN Algorithm tuning\n",
    "scaler = StandardScaler().fit(X_train)\n",
    "rescaledX = scaler.transform(X_train)\n",
    "param_grid = {\"max_iter\": [15, 10, 25],\"alpha\": [ 0.01, 0.1, .5],\"l1_ratio\": np.arange(0.0, 1.0, 0.1)}\n",
    "model = ElasticNet()\n",
    "kfold = KFold(n_splits=num_folds, random_state=seed)\n",
    "grid = GridSearchCV(estimator=model, param_grid=param_grid, scoring=scoring, cv=kfold)\n",
    "grid_result = grid.fit(rescaledX, Y_train)\n",
    "print(\"Best: %f using %s\" % (grid_result.best_score_, grid_result.best_params_))\n",
    "means = grid_result.cv_results_['mean_test_score']\n",
    "stds = grid_result.cv_results_['std_test_score']\n",
    "params = grid_result.cv_results_['params']\n",
    "for mean, stdev, param in zip(means, stds, params):\n",
    "    print(\"%f (%f) with: %r\" % (mean, stdev, param))\n"
   ]
  },
  {
   "cell_type": "code",
   "execution_count": 24,
   "metadata": {},
   "outputs": [
    {
     "name": "stdout",
     "output_type": "stream",
     "text": [
      "Best: -0.235651 using {'n_neighbors': 21}\n",
      "-0.437500 (0.165359) with: {'n_neighbors': 1}\n",
      "-0.366319 (0.104773) with: {'n_neighbors': 3}\n",
      "-0.290000 (0.083684) with: {'n_neighbors': 5}\n",
      "-0.271365 (0.080495) with: {'n_neighbors': 7}\n",
      "-0.248071 (0.061435) with: {'n_neighbors': 9}\n",
      "-0.238378 (0.072141) with: {'n_neighbors': 11}\n",
      "-0.238998 (0.074447) with: {'n_neighbors': 13}\n",
      "-0.242639 (0.071435) with: {'n_neighbors': 15}\n",
      "-0.253785 (0.056137) with: {'n_neighbors': 17}\n",
      "-0.243508 (0.042831) with: {'n_neighbors': 19}\n",
      "-0.235651 (0.035193) with: {'n_neighbors': 21}\n"
     ]
    }
   ],
   "source": [
    "# KNN Algorithm tuning\n",
    "scaler = StandardScaler().fit(X_train)\n",
    "rescaledX = scaler.transform(X_train)\n",
    "k_values = np.array([1,3,5,7,9,11,13,15,17,19,21])\n",
    "param_grid = dict(n_neighbors=k_values)\n",
    "model = KNeighborsRegressor()\n",
    "kfold = KFold(n_splits=num_folds, random_state=seed)\n",
    "grid = GridSearchCV(estimator=model, param_grid=param_grid, scoring=scoring, cv=kfold)\n",
    "grid_result = grid.fit(rescaledX, Y_train)\n",
    "print(\"Best: %f using %s\" % (grid_result.best_score_, grid_result.best_params_))\n",
    "means = grid_result.cv_results_['mean_test_score']\n",
    "stds = grid_result.cv_results_['std_test_score']\n",
    "params = grid_result.cv_results_['params']\n",
    "for mean, stdev, param in zip(means, stds, params):\n",
    "    print(\"%f (%f) with: %r\" % (mean, stdev, param))"
   ]
  },
  {
   "cell_type": "code",
   "execution_count": 25,
   "metadata": {},
   "outputs": [
    {
     "name": "stdout",
     "output_type": "stream",
     "text": [
      "ScaledLR: -0.247969 (0.091670)\n",
      "ScaledLASSO: -0.249012 (0.049387)\n",
      "ScaledEN: -0.234546 (0.067015)\n",
      "ScaledKNN: -0.235952 (0.037329)\n",
      "ScaledCART: -0.472024 (0.126327)\n",
      "ScaledSVR: -0.335462 (0.133105)\n"
     ]
    }
   ],
   "source": [
    "# Comparing Standardized models again with optimised EN and KNN\n",
    "pipelines = []\n",
    "pipelines.append(('ScaledLR', Pipeline([('Scaler', StandardScaler()),('LR',\n",
    "LinearRegression())])))\n",
    "pipelines.append(('ScaledLASSO', Pipeline([('Scaler', StandardScaler()),('LASSO',\n",
    "Lasso())])))\n",
    "pipelines.append(('ScaledEN', Pipeline([('Scaler', StandardScaler()),('EN',\n",
    "ElasticNet(max_iter=15,alpha= 0.1,l1_ratio=.5))])))\n",
    "pipelines.append(('ScaledKNN', Pipeline([('Scaler', StandardScaler()),('KNN',\n",
    "KNeighborsRegressor(n_neighbors=21))])))\n",
    "pipelines.append(('ScaledCART', Pipeline([('Scaler', StandardScaler()),('CART',\n",
    "DecisionTreeRegressor())])))\n",
    "pipelines.append(('ScaledSVR', Pipeline([('Scaler', StandardScaler()),('SVR', SVR())])))\n",
    "results = []\n",
    "names = []\n",
    "for name, model in pipelines:\n",
    "    kfold = KFold(n_splits=num_folds, random_state=seed)\n",
    "    cv_results = cross_val_score(model, X_train, Y_train.ravel(), cv=kfold, scoring=scoring)\n",
    "    results.append(cv_results)\n",
    "    names.append(name)\n",
    "    msg = \"%s: %f (%f)\" % (name, cv_results.mean(), cv_results.std())\n",
    "    print(msg)"
   ]
  },
  {
   "cell_type": "code",
   "execution_count": 26,
   "metadata": {},
   "outputs": [
    {
     "data": {
      "image/png": "[encoded data removed]",
      "text/plain": [
       "<Figure size 432x288 with 1 Axes>"
      ]
     },
     "metadata": {
      "needs_background": "light"
     },
     "output_type": "display_data"
    }
   ],
   "source": [
    "# Compare Algorithms; \n",
    "fig = pyplot.figure()\n",
    "fig.suptitle('Scaled Algorithm Comparison')\n",
    "ax = fig.add_subplot(111)\n",
    "pyplot.boxplot(results)\n",
    "ax.set_xticklabels(names)\n",
    "pyplot.show()"
   ]
  },
  {
   "cell_type": "markdown",
   "metadata": {},
   "source": [
    "The Elastic Net is the best performing model so far."
   ]
  },
  {
   "cell_type": "code",
   "execution_count": 27,
   "metadata": {},
   "outputs": [
    {
     "name": "stdout",
     "output_type": "stream",
     "text": [
      "ScaledAB: -0.286799 (0.106597)\n",
      "ScaledGBM: -0.338067 (0.108039)\n",
      "ScaledRF: -0.356840 (0.149354)\n",
      "ScaledET: -0.378060 (0.119726)\n"
     ]
    }
   ],
   "source": [
    "# ensembles\n",
    "ensembles = []\n",
    "ensembles.append(('ScaledAB', Pipeline([('Scaler', StandardScaler()),('AB',\n",
    "AdaBoostRegressor(n_estimators=75, learning_rate= 0.075, random_state=1))])))\n",
    "ensembles.append(('ScaledGBM', Pipeline([('Scaler', StandardScaler()),('GBM',\n",
    "GradientBoostingRegressor(n_estimators=50))])))\n",
    "ensembles.append(('ScaledRF', Pipeline([('Scaler', StandardScaler()),('RF',\n",
    "RandomForestRegressor(n_estimators=10))])))\n",
    "ensembles.append(('ScaledET', Pipeline([('Scaler', StandardScaler()),('ET',\n",
    "ExtraTreesRegressor(n_estimators=10))])))\n",
    "results = []\n",
    "names = []\n",
    "for name, model in ensembles:\n",
    "    kfold = KFold(n_splits=num_folds, random_state=seed)\n",
    "    cv_results = cross_val_score(model, X_train, Y_train.ravel(), cv=kfold, scoring=scoring)\n",
    "    results.append(cv_results)\n",
    "    names.append(name)\n",
    "    msg = \"%s: %f (%f)\" % (name, cv_results.mean(), cv_results.std())\n",
    "    print(msg)"
   ]
  },
  {
   "cell_type": "code",
   "execution_count": 28,
   "metadata": {},
   "outputs": [
    {
     "data": {
      "image/png": "[encoded data removed]",
      "text/plain": [
       "<Figure size 432x288 with 1 Axes>"
      ]
     },
     "metadata": {
      "needs_background": "light"
     },
     "output_type": "display_data"
    }
   ],
   "source": [
    "# Compare Ensemble Algorithms\n",
    "fig = pyplot.figure()\n",
    "fig.suptitle('Scaled Ensemble Algorithm Comparison')\n",
    "ax = fig.add_subplot(111)\n",
    "pyplot.boxplot(results)\n",
    "ax.set_xticklabels(names)\n",
    "pyplot.show()"
   ]
  },
  {
   "cell_type": "code",
   "execution_count": 29,
   "metadata": {},
   "outputs": [
    {
     "name": "stdout",
     "output_type": "stream",
     "text": [
      "Best: -0.313601 using {'learning_rate': 0.05, 'n_estimators': 50}\n",
      "-0.324311 (0.099233) with: {'learning_rate': 0.01, 'n_estimators': 50}\n",
      "-0.321909 (0.110830) with: {'learning_rate': 0.01, 'n_estimators': 75}\n",
      "-0.328077 (0.121360) with: {'learning_rate': 0.01, 'n_estimators': 100}\n",
      "-0.313601 (0.107924) with: {'learning_rate': 0.05, 'n_estimators': 50}\n",
      "-0.318374 (0.114828) with: {'learning_rate': 0.05, 'n_estimators': 75}\n",
      "-0.318858 (0.115656) with: {'learning_rate': 0.05, 'n_estimators': 100}\n",
      "-0.324097 (0.101474) with: {'learning_rate': 0.075, 'n_estimators': 50}\n",
      "-0.324283 (0.101210) with: {'learning_rate': 0.075, 'n_estimators': 75}\n",
      "-0.324283 (0.101210) with: {'learning_rate': 0.075, 'n_estimators': 100}\n",
      "-0.319446 (0.094076) with: {'learning_rate': 0.1, 'n_estimators': 50}\n",
      "-0.320422 (0.094106) with: {'learning_rate': 0.1, 'n_estimators': 75}\n",
      "-0.320422 (0.094106) with: {'learning_rate': 0.1, 'n_estimators': 100}\n"
     ]
    }
   ],
   "source": [
    "# Tune scaled AB\n",
    "scaler = StandardScaler().fit(X_train)\n",
    "rescaledX = scaler.transform(X_train)\n",
    "param_grid = {'n_estimators':[50,75,100],'learning_rate':[.01,0.05,.075,.1]}\n",
    "model = AdaBoostRegressor(random_state=seed)\n",
    "kfold = KFold(n_splits=num_folds, random_state=seed)\n",
    "grid = GridSearchCV(estimator=model, param_grid=param_grid, scoring=scoring,cv=kfold,\n",
    "iid=True)\n",
    "grid_result = grid.fit(rescaledX, Y_train.ravel())\n",
    "print(\"Best: %f using %s\" % (grid_result.best_score_, grid_result.best_params_))\n",
    "means = grid_result.cv_results_['mean_test_score']\n",
    "stds = grid_result.cv_results_['std_test_score']\n",
    "params = grid_result.cv_results_['params']\n",
    "for mean, stdev, param in zip(means, stds, params):\n",
    "    print(\"%f (%f) with: %r\" % (mean, stdev, param))"
   ]
  },
  {
   "cell_type": "code",
   "execution_count": 30,
   "metadata": {},
   "outputs": [
    {
     "data": {
      "text/plain": [
       "AdaBoostRegressor(base_estimator=None, learning_rate=0.075, loss='linear',\n",
       "         n_estimators=75, random_state=1)"
      ]
     },
     "execution_count": 30,
     "metadata": {},
     "output_type": "execute_result"
    }
   ],
   "source": [
    "# prepare the model\n",
    "scaler = StandardScaler().fit(X_train)\n",
    "rescaledX = scaler.transform(X_train)\n",
    "model = AdaBoostRegressor(n_estimators=75, learning_rate= 0.075, random_state=1)\n",
    "model.fit(rescaledX, Y_train.ravel())"
   ]
  },
  {
   "cell_type": "code",
   "execution_count": 31,
   "metadata": {},
   "outputs": [
    {
     "name": "stdout",
     "output_type": "stream",
     "text": [
      "0.1859633301035857\n"
     ]
    }
   ],
   "source": [
    "# transform the validation dataset\n",
    "rescaledValidationX = scaler.transform(X_validation)\n",
    "predictions = model.predict(rescaledValidationX)\n",
    "print(mean_squared_error(Y_validation, predictions))"
   ]
  },
  {
   "cell_type": "markdown",
   "metadata": {},
   "source": [
    "AdaBoost was my most successful ensemble, but I also looked at Gradient Boosting with different Shrinkage values. Along with looking at the MSE I also checked feature importance."
   ]
  },
  {
   "cell_type": "code",
   "execution_count": 32,
   "metadata": {},
   "outputs": [],
   "source": [
    "# Boosting with different shrinkage values\n",
    "shrinkage_values = [.001, .025, .005, .01, .025, .05, .1, .25, .5]\n",
    "mses = []\n",
    "for i in shrinkage_values:\n",
    "    best = GradientBoostingRegressor(learning_rate=i, n_estimators=1000, random_state=1)\n",
    "    best.fit(rescaledX, Y_train.ravel())\n",
    "    mses.append(mean_squared_error(Y_validation, best.predict(rescaledValidationX)))"
   ]
  },
  {
   "cell_type": "code",
   "execution_count": 33,
   "metadata": {},
   "outputs": [
    {
     "data": {
      "text/plain": [
       "<matplotlib.collections.PathCollection at 0x1450d0b8f60>"
      ]
     },
     "execution_count": 33,
     "metadata": {},
     "output_type": "execute_result"
    },
    {
     "data": {
      "image/png": "[encoded data removed]",
      "text/plain": [
       "<Figure size 432x288 with 1 Axes>"
      ]
     },
     "metadata": {
      "needs_background": "light"
     },
     "output_type": "display_data"
    }
   ],
   "source": [
    "# Plot training set MSE for different shrinkage values\n",
    "plt.scatter(shrinkage_values, mses)"
   ]
  },
  {
   "cell_type": "code",
   "execution_count": 34,
   "metadata": {},
   "outputs": [
    {
     "name": "stdout",
     "output_type": "stream",
     "text": [
      "Minimum test MSE: 0.17757641493841847\n"
     ]
    }
   ],
   "source": [
    "# Get minimum test MSE value\n",
    "print('Minimum test MSE:', np.min(mses))"
   ]
  },
  {
   "cell_type": "code",
   "execution_count": 35,
   "metadata": {},
   "outputs": [
    {
     "data": {
      "text/plain": [
       "(array([2], dtype=int64),)"
      ]
     },
     "execution_count": 35,
     "metadata": {},
     "output_type": "execute_result"
    }
   ],
   "source": [
    "# Index of the shrinkage_value that leads to the minimum test MSE\n",
    "np.where(mses == np.min(mses))"
   ]
  },
  {
   "cell_type": "code",
   "execution_count": 36,
   "metadata": {},
   "outputs": [
    {
     "data": {
      "text/plain": [
       "Text(0.5, 0, 'Variable importance')"
      ]
     },
     "execution_count": 36,
     "metadata": {},
     "output_type": "execute_result"
    },
    {
     "data": {
      "image/png": "[encoded data removed]",
      "text/plain": [
       "<Figure size 432x288 with 1 Axes>"
      ]
     },
     "metadata": {
      "needs_background": "light"
     },
     "output_type": "display_data"
    }
   ],
   "source": [
    "dataX = data2.iloc[:,0:4]\n",
    "best = GradientBoostingRegressor(learning_rate=0.005)  # 0.005 is the learning_rate corresponding to the best test MSE\n",
    "best.fit(rescaledX, Y_train.ravel())\n",
    "\n",
    "feature_importance = best.feature_importances_*100\n",
    "rel_imp = pd.Series(feature_importance, index=dataX.columns).sort_values(inplace=False)\n",
    "rel_imp.T.plot(kind='barh', color='b')\n",
    "plt.xlabel('Variable importance')"
   ]
  },
  {
   "cell_type": "code",
   "execution_count": 37,
   "metadata": {},
   "outputs": [],
   "source": [
    "#Classification"
   ]
  },
  {
   "cell_type": "code",
   "execution_count": 38,
   "metadata": {},
   "outputs": [
    {
     "name": "stdout",
     "output_type": "stream",
     "text": [
      "LR: -0.414286 (0.234787)\n",
      "LDA: -0.483333 (0.243754)\n",
      "KNN: -0.459524 (0.149849)\n",
      "CART: -0.480952 (0.149754)\n",
      "NB: -0.380952 (0.181952)\n",
      "SVM: -0.409524 (0.168291)\n"
     ]
    }
   ],
   "source": [
    "# Spot-Check Algorithms\n",
    "models = []\n",
    "models.append(('LR', LogisticRegression(solver='liblinear')))\n",
    "models.append(('LDA', LinearDiscriminantAnalysis()))\n",
    "models.append(('KNN', KNeighborsClassifier()))\n",
    "models.append(('CART', DecisionTreeClassifier()))\n",
    "models.append(('NB', GaussianNB()))\n",
    "models.append(('SVM', SVC(gamma='auto')))\n",
    "results = []\n",
    "names = []\n",
    "for name, model in models:\n",
    "    kfold = KFold(n_splits=num_folds, random_state=seed)\n",
    "    cv_results = cross_val_score(model, X_train, Y_train.ravel(), cv=kfold, scoring=scoring)\n",
    "    results.append(cv_results)\n",
    "    names.append(name)\n",
    "    msg = \"%s: %f (%f)\" % (name, cv_results.mean(), cv_results.std())\n",
    "    print(msg)"
   ]
  },
  {
   "cell_type": "code",
   "execution_count": 39,
   "metadata": {},
   "outputs": [
    {
     "data": {
      "image/png": "[encoded data removed]",
      "text/plain": [
       "<Figure size 432x288 with 1 Axes>"
      ]
     },
     "metadata": {
      "needs_background": "light"
     },
     "output_type": "display_data"
    }
   ],
   "source": [
    "# Compare Algorithms\n",
    "fig = pyplot.figure()\n",
    "fig.suptitle('Algorithm Comparison')\n",
    "ax = fig.add_subplot(111)\n",
    "pyplot.boxplot(results)\n",
    "ax.set_xticklabels(names)\n",
    "pyplot.show()"
   ]
  },
  {
   "cell_type": "code",
   "execution_count": 40,
   "metadata": {},
   "outputs": [
    {
     "name": "stdout",
     "output_type": "stream",
     "text": [
      "ScaledLR: -0.466667 (0.247711)\n",
      "ScaledLDA: -0.483333 (0.243754)\n",
      "ScaledKNN: -0.500000 (0.114682)\n",
      "ScaledCART: -0.480952 (0.196857)\n",
      "ScaledNB: -0.380952 (0.181952)\n",
      "ScaledSVM: -0.392857 (0.171114)\n"
     ]
    }
   ],
   "source": [
    "# Standardize the dataset\n",
    "pipelines = []\n",
    "pipelines.append(('ScaledLR', Pipeline([('Scaler', StandardScaler()),('LR',\n",
    "LogisticRegression(solver='liblinear'))])))\n",
    "pipelines.append(('ScaledLDA', Pipeline([('Scaler', StandardScaler()),('LDA',\n",
    "LinearDiscriminantAnalysis())])))\n",
    "pipelines.append(('ScaledKNN', Pipeline([('Scaler', StandardScaler()),('KNN',\n",
    "KNeighborsClassifier())])))\n",
    "pipelines.append(('ScaledCART', Pipeline([('Scaler', StandardScaler()),('CART',\n",
    "DecisionTreeClassifier())])))\n",
    "pipelines.append(('ScaledNB', Pipeline([('Scaler', StandardScaler()),('NB',\n",
    "GaussianNB())])))\n",
    "pipelines.append(('ScaledSVM', Pipeline([('Scaler', StandardScaler()),('SVM',\n",
    "SVC(gamma='auto'))])))\n",
    "results = []\n",
    "names = []\n",
    "for name, model in pipelines:\n",
    "    kfold = KFold(n_splits=num_folds, random_state=seed)\n",
    "    cv_results = cross_val_score(model, X_train, Y_train.ravel(), cv=kfold, scoring=scoring)\n",
    "    results.append(cv_results)\n",
    "    names.append(name)\n",
    "    msg = \"%s: %f (%f)\" % (name, cv_results.mean(), cv_results.std())\n",
    "    print(msg)"
   ]
  },
  {
   "cell_type": "code",
   "execution_count": 41,
   "metadata": {},
   "outputs": [
    {
     "name": "stdout",
     "output_type": "stream",
     "text": [
      "Best: -0.375000 using {'C': 0.5, 'kernel': 'rbf'}\n",
      "-0.421875 (0.219572) with: {'C': 0.1, 'kernel': 'linear'}\n",
      "-0.390625 (0.205797) with: {'C': 0.1, 'kernel': 'poly'}\n",
      "-0.390625 (0.205797) with: {'C': 0.1, 'kernel': 'rbf'}\n",
      "-0.390625 (0.205797) with: {'C': 0.1, 'kernel': 'sigmoid'}\n",
      "-0.484375 (0.204437) with: {'C': 0.3, 'kernel': 'linear'}\n",
      "-0.406250 (0.219387) with: {'C': 0.3, 'kernel': 'poly'}\n",
      "-0.437500 (0.224520) with: {'C': 0.3, 'kernel': 'rbf'}\n",
      "-0.390625 (0.205797) with: {'C': 0.3, 'kernel': 'sigmoid'}\n",
      "-0.468750 (0.208965) with: {'C': 0.5, 'kernel': 'linear'}\n",
      "-0.453125 (0.239430) with: {'C': 0.5, 'kernel': 'poly'}\n",
      "-0.375000 (0.235439) with: {'C': 0.5, 'kernel': 'rbf'}\n",
      "-0.468750 (0.215106) with: {'C': 0.5, 'kernel': 'sigmoid'}\n",
      "-0.484375 (0.216801) with: {'C': 0.7, 'kernel': 'linear'}\n",
      "-0.453125 (0.239430) with: {'C': 0.7, 'kernel': 'poly'}\n",
      "-0.390625 (0.166864) with: {'C': 0.7, 'kernel': 'rbf'}\n",
      "-0.500000 (0.229031) with: {'C': 0.7, 'kernel': 'sigmoid'}\n",
      "-0.515625 (0.216801) with: {'C': 0.9, 'kernel': 'linear'}\n",
      "-0.453125 (0.198669) with: {'C': 0.9, 'kernel': 'poly'}\n",
      "-0.390625 (0.166864) with: {'C': 0.9, 'kernel': 'rbf'}\n",
      "-0.500000 (0.211289) with: {'C': 0.9, 'kernel': 'sigmoid'}\n",
      "-0.515625 (0.216801) with: {'C': 1.0, 'kernel': 'linear'}\n",
      "-0.453125 (0.198669) with: {'C': 1.0, 'kernel': 'poly'}\n",
      "-0.390625 (0.166864) with: {'C': 1.0, 'kernel': 'rbf'}\n",
      "-0.562500 (0.235834) with: {'C': 1.0, 'kernel': 'sigmoid'}\n",
      "-0.500000 (0.223274) with: {'C': 1.3, 'kernel': 'linear'}\n",
      "-0.484375 (0.201689) with: {'C': 1.3, 'kernel': 'poly'}\n",
      "-0.390625 (0.166864) with: {'C': 1.3, 'kernel': 'rbf'}\n",
      "-0.531250 (0.219387) with: {'C': 1.3, 'kernel': 'sigmoid'}\n",
      "-0.500000 (0.223274) with: {'C': 1.5, 'kernel': 'linear'}\n",
      "-0.515625 (0.195126) with: {'C': 1.5, 'kernel': 'poly'}\n",
      "-0.390625 (0.166864) with: {'C': 1.5, 'kernel': 'rbf'}\n",
      "-0.546875 (0.216587) with: {'C': 1.5, 'kernel': 'sigmoid'}\n",
      "-0.500000 (0.223274) with: {'C': 1.7, 'kernel': 'linear'}\n",
      "-0.546875 (0.150759) with: {'C': 1.7, 'kernel': 'poly'}\n",
      "-0.390625 (0.166864) with: {'C': 1.7, 'kernel': 'rbf'}\n",
      "-0.531250 (0.200794) with: {'C': 1.7, 'kernel': 'sigmoid'}\n",
      "-0.500000 (0.223274) with: {'C': 2.0, 'kernel': 'linear'}\n",
      "-0.593750 (0.108038) with: {'C': 2.0, 'kernel': 'poly'}\n",
      "-0.406250 (0.134152) with: {'C': 2.0, 'kernel': 'rbf'}\n",
      "-0.515625 (0.196077) with: {'C': 2.0, 'kernel': 'sigmoid'}\n"
     ]
    }
   ],
   "source": [
    "# Tune scaled SVM\n",
    "scaler = StandardScaler().fit(X_train)\n",
    "rescaledX = scaler.transform(X_train)\n",
    "c_values = [0.1, 0.3, 0.5, 0.7, 0.9, 1.0, 1.3, 1.5, 1.7, 2.0]\n",
    "kernel_values = ['linear', 'poly', 'rbf', 'sigmoid']\n",
    "param_grid = dict(C=c_values, kernel=kernel_values)\n",
    "model = SVC(gamma='auto')\n",
    "kfold = KFold(n_splits=num_folds, random_state=seed)\n",
    "grid = GridSearchCV(estimator=model, param_grid=param_grid, scoring=scoring, cv=kfold,\n",
    "iid=True)\n",
    "grid_result = grid.fit(rescaledX, Y_train.ravel())\n",
    "print(\"Best: %f using %s\" % (grid_result.best_score_, grid_result.best_params_))\n",
    "means = grid_result.cv_results_['mean_test_score']\n",
    "stds = grid_result.cv_results_['std_test_score']\n",
    "params = grid_result.cv_results_['params']\n",
    "for mean, stdev, param in zip(means, stds, params):\n",
    "    print(\"%f (%f) with: %r\" % (mean, stdev, param))"
   ]
  },
  {
   "cell_type": "code",
   "execution_count": 42,
   "metadata": {},
   "outputs": [
    {
     "name": "stdout",
     "output_type": "stream",
     "text": [
      "ScaledLR: -0.466667 (0.247711)\n",
      "ScaledLDA: -0.483333 (0.243754)\n",
      "ScaledKNN: -0.500000 (0.114682)\n",
      "ScaledCART: -0.492857 (0.172039)\n",
      "ScaledNB: -0.380952 (0.181952)\n",
      "ScaledSVM: -0.383333 (0.236051)\n"
     ]
    }
   ],
   "source": [
    "# Standardize the dataset\n",
    "pipelines = []\n",
    "pipelines.append(('ScaledLR', Pipeline([('Scaler', StandardScaler()),('LR',\n",
    "LogisticRegression(solver='liblinear'))])))\n",
    "pipelines.append(('ScaledLDA', Pipeline([('Scaler', StandardScaler()),('LDA',\n",
    "LinearDiscriminantAnalysis())])))\n",
    "pipelines.append(('ScaledKNN', Pipeline([('Scaler', StandardScaler()),('KNN',\n",
    "KNeighborsClassifier())])))\n",
    "pipelines.append(('ScaledCART', Pipeline([('Scaler', StandardScaler()),('CART',\n",
    "DecisionTreeClassifier())])))\n",
    "pipelines.append(('ScaledNB', Pipeline([('Scaler', StandardScaler()),('NB',\n",
    "GaussianNB())])))\n",
    "pipelines.append(('ScaledSVM', Pipeline([('Scaler', StandardScaler()),('SVM',\n",
    "SVC(C=.5, kernel='rbf', gamma='auto'))])))\n",
    "results = []\n",
    "names = []\n",
    "for name, model in pipelines:\n",
    "    kfold = KFold(n_splits=num_folds, random_state=seed)\n",
    "    cv_results = cross_val_score(model, X_train, Y_train.ravel(), cv=kfold, scoring=scoring)\n",
    "    results.append(cv_results)\n",
    "    names.append(name)\n",
    "    msg = \"%s: %f (%f)\" % (name, cv_results.mean(), cv_results.std())\n",
    "    print(msg)"
   ]
  },
  {
   "cell_type": "code",
   "execution_count": 43,
   "metadata": {},
   "outputs": [
    {
     "data": {
      "image/png": "[encoded data removed]",
      "text/plain": [
       "<Figure size 576x288 with 1 Axes>"
      ]
     },
     "metadata": {
      "needs_background": "light"
     },
     "output_type": "display_data"
    }
   ],
   "source": [
    "# Compare Algorithms\n",
    "fig = pyplot.figure(figsize= (8,4))\n",
    "fig.suptitle('Scaled Algorithm Comparison')\n",
    "ax = fig.add_subplot(111)\n",
    "pyplot.boxplot(results)\n",
    "ax.set_xticklabels(names)\n",
    "pyplot.show()"
   ]
  },
  {
   "cell_type": "code",
   "execution_count": 44,
   "metadata": {},
   "outputs": [
    {
     "name": "stdout",
     "output_type": "stream",
     "text": [
      "AB: -0.500000 (0.108065)\n",
      "GBM: -0.511905 (0.191145)\n",
      "RF: -0.495238 (0.184059)\n",
      "ET: -0.464286 (0.191145)\n"
     ]
    }
   ],
   "source": [
    "# ensembles\n",
    "ensembles = []\n",
    "ensembles.append(('AB', AdaBoostClassifier()))\n",
    "ensembles.append(('GBM', GradientBoostingClassifier()))\n",
    "ensembles.append(('RF', RandomForestClassifier(n_estimators=10)))\n",
    "ensembles.append(('ET', ExtraTreesClassifier(n_estimators=10)))\n",
    "results = []\n",
    "names = []\n",
    "for name, model in ensembles:\n",
    "    kfold = KFold(n_splits=num_folds, random_state=seed)\n",
    "    cv_results = cross_val_score(model, X_train, Y_train.ravel(), cv=kfold, scoring=scoring)\n",
    "    results.append(cv_results)\n",
    "    names.append(name)\n",
    "    msg = \"%s: %f (%f)\" % (name, cv_results.mean(), cv_results.std())\n",
    "    print(msg)"
   ]
  },
  {
   "cell_type": "code",
   "execution_count": 45,
   "metadata": {},
   "outputs": [
    {
     "data": {
      "image/png": "[encoded data removed]",
      "text/plain": [
       "<Figure size 432x288 with 1 Axes>"
      ]
     },
     "metadata": {
      "needs_background": "light"
     },
     "output_type": "display_data"
    }
   ],
   "source": [
    "# Compare Algorithms\n",
    "fig = pyplot.figure()\n",
    "fig.suptitle('Ensemble Algorithm Comparison')\n",
    "ax = fig.add_subplot(111)\n",
    "pyplot.boxplot(results)\n",
    "ax.set_xticklabels(names)\n",
    "pyplot.show()"
   ]
  },
  {
   "cell_type": "markdown",
   "metadata": {},
   "source": [
    "After comparing algorithms the Gaussian NB performed well, but the ensemble learners didn't do as well. In the end I used the GNB for the final model."
   ]
  },
  {
   "cell_type": "code",
   "execution_count": 46,
   "metadata": {},
   "outputs": [
    {
     "name": "stdout",
     "output_type": "stream",
     "text": [
      "0.8125\n",
      "[[6 3]\n",
      " [0 7]]\n",
      "              precision    recall  f1-score   support\n",
      "\n",
      "         0.0       1.00      0.67      0.80         9\n",
      "         1.0       0.70      1.00      0.82         7\n",
      "\n",
      "   micro avg       0.81      0.81      0.81        16\n",
      "   macro avg       0.85      0.83      0.81        16\n",
      "weighted avg       0.87      0.81      0.81        16\n",
      "\n"
     ]
    }
   ],
   "source": [
    "# prepare the model\n",
    "scaler = StandardScaler().fit(X_train)\n",
    "rescaledX = scaler.transform(X_train)\n",
    "model = GaussianNB()\n",
    "model.fit(rescaledX, Y_train.ravel())\n",
    "# estimate accuracy on validation dataset\n",
    "rescaledValidationX = scaler.transform(X_validation)\n",
    "predictions = model.predict(rescaledValidationX)\n",
    "print(accuracy_score(Y_validation, predictions))\n",
    "print(confusion_matrix(Y_validation, predictions))\n",
    "print(classification_report(Y_validation, predictions))"
   ]
  },
  {
   "cell_type": "code",
   "execution_count": 47,
   "metadata": {},
   "outputs": [],
   "source": [
    "# Unsupervised"
   ]
  },
  {
   "cell_type": "code",
   "execution_count": 48,
   "metadata": {},
   "outputs": [],
   "source": [
    "X6 = pd.DataFrame(scale(dataset), index=dataset.index, columns=dataset.columns)"
   ]
  },
  {
   "cell_type": "code",
   "execution_count": 49,
   "metadata": {},
   "outputs": [
    {
     "data": {
      "text/html": [
       "<div>\n",
       "<style scoped>\n",
       "    .dataframe tbody tr th:only-of-type {\n",
       "        vertical-align: middle;\n",
       "    }\n",
       "\n",
       "    .dataframe tbody tr th {\n",
       "        vertical-align: top;\n",
       "    }\n",
       "\n",
       "    .dataframe thead th {\n",
       "        text-align: right;\n",
       "    }\n",
       "</style>\n",
       "<table border=\"1\" class=\"dataframe\">\n",
       "  <thead>\n",
       "    <tr style=\"text-align: right;\">\n",
       "      <th></th>\n",
       "      <th>V1</th>\n",
       "      <th>V2</th>\n",
       "      <th>V3</th>\n",
       "      <th>V4</th>\n",
       "      <th>V5</th>\n",
       "      <th>V6</th>\n",
       "    </tr>\n",
       "  </thead>\n",
       "  <tbody>\n",
       "    <tr>\n",
       "      <th>Age</th>\n",
       "      <td>0.510329</td>\n",
       "      <td>0.360678</td>\n",
       "      <td>0.226698</td>\n",
       "      <td>-0.290634</td>\n",
       "      <td>0.349351</td>\n",
       "      <td>0.592933</td>\n",
       "    </tr>\n",
       "    <tr>\n",
       "      <th>Delivery number</th>\n",
       "      <td>0.527797</td>\n",
       "      <td>0.344348</td>\n",
       "      <td>0.045062</td>\n",
       "      <td>-0.268868</td>\n",
       "      <td>-0.523841</td>\n",
       "      <td>-0.504108</td>\n",
       "    </tr>\n",
       "    <tr>\n",
       "      <th>Delivery time</th>\n",
       "      <td>-0.171911</td>\n",
       "      <td>0.219208</td>\n",
       "      <td>0.780634</td>\n",
       "      <td>0.451454</td>\n",
       "      <td>-0.308251</td>\n",
       "      <td>0.119061</td>\n",
       "    </tr>\n",
       "    <tr>\n",
       "      <th>Blood of Pressure</th>\n",
       "      <td>0.164213</td>\n",
       "      <td>0.467475</td>\n",
       "      <td>-0.526446</td>\n",
       "      <td>0.675433</td>\n",
       "      <td>-0.050455</td>\n",
       "      <td>0.136379</td>\n",
       "    </tr>\n",
       "    <tr>\n",
       "      <th>Heart Problem</th>\n",
       "      <td>0.492312</td>\n",
       "      <td>-0.314384</td>\n",
       "      <td>0.231221</td>\n",
       "      <td>0.402300</td>\n",
       "      <td>0.512265</td>\n",
       "      <td>-0.425521</td>\n",
       "    </tr>\n",
       "    <tr>\n",
       "      <th>Caesarian</th>\n",
       "      <td>0.402622</td>\n",
       "      <td>-0.621219</td>\n",
       "      <td>-0.081114</td>\n",
       "      <td>0.146204</td>\n",
       "      <td>-0.493522</td>\n",
       "      <td>0.424810</td>\n",
       "    </tr>\n",
       "  </tbody>\n",
       "</table>\n",
       "</div>"
      ],
      "text/plain": [
       "                         V1        V2        V3        V4        V5        V6\n",
       "Age                0.510329  0.360678  0.226698 -0.290634  0.349351  0.592933\n",
       "Delivery number    0.527797  0.344348  0.045062 -0.268868 -0.523841 -0.504108\n",
       "Delivery time     -0.171911  0.219208  0.780634  0.451454 -0.308251  0.119061\n",
       "Blood of Pressure  0.164213  0.467475 -0.526446  0.675433 -0.050455  0.136379\n",
       "Heart Problem      0.492312 -0.314384  0.231221  0.402300  0.512265 -0.425521\n",
       "Caesarian          0.402622 -0.621219 -0.081114  0.146204 -0.493522  0.424810"
      ]
     },
     "execution_count": 49,
     "metadata": {},
     "output_type": "execute_result"
    }
   ],
   "source": [
    "# The loading vectors\n",
    "pca_loadings = pd.DataFrame(PCA().fit(X6).components_.T, index=df.columns, columns=['V1', 'V2', 'V3', 'V4', 'V5', 'V6'])\n",
    "pca_loadings"
   ]
  },
  {
   "cell_type": "code",
   "execution_count": 50,
   "metadata": {},
   "outputs": [
    {
     "data": {
      "text/html": [
       "<div>\n",
       "<style scoped>\n",
       "    .dataframe tbody tr th:only-of-type {\n",
       "        vertical-align: middle;\n",
       "    }\n",
       "\n",
       "    .dataframe tbody tr th {\n",
       "        vertical-align: top;\n",
       "    }\n",
       "\n",
       "    .dataframe thead th {\n",
       "        text-align: right;\n",
       "    }\n",
       "</style>\n",
       "<table border=\"1\" class=\"dataframe\">\n",
       "  <thead>\n",
       "    <tr style=\"text-align: right;\">\n",
       "      <th></th>\n",
       "      <th>PC1</th>\n",
       "      <th>PC2</th>\n",
       "      <th>PC3</th>\n",
       "      <th>PC4</th>\n",
       "      <th>PC5</th>\n",
       "      <th>PC6</th>\n",
       "    </tr>\n",
       "  </thead>\n",
       "  <tbody>\n",
       "    <tr>\n",
       "      <th>0</th>\n",
       "      <td>-1.506993</td>\n",
       "      <td>0.754408</td>\n",
       "      <td>-1.740025</td>\n",
       "      <td>0.675275</td>\n",
       "      <td>0.389510</td>\n",
       "      <td>-0.318723</td>\n",
       "    </tr>\n",
       "    <tr>\n",
       "      <th>1</th>\n",
       "      <td>0.152973</td>\n",
       "      <td>-0.437972</td>\n",
       "      <td>-0.920689</td>\n",
       "      <td>-0.557793</td>\n",
       "      <td>-0.920597</td>\n",
       "      <td>0.185013</td>\n",
       "    </tr>\n",
       "    <tr>\n",
       "      <th>2</th>\n",
       "      <td>-0.873722</td>\n",
       "      <td>1.089312</td>\n",
       "      <td>0.207146</td>\n",
       "      <td>-0.296194</td>\n",
       "      <td>-0.302815</td>\n",
       "      <td>-0.527339</td>\n",
       "    </tr>\n",
       "    <tr>\n",
       "      <th>3</th>\n",
       "      <td>-0.892937</td>\n",
       "      <td>1.188397</td>\n",
       "      <td>-1.467250</td>\n",
       "      <td>0.325568</td>\n",
       "      <td>0.809869</td>\n",
       "      <td>0.394727</td>\n",
       "    </tr>\n",
       "    <tr>\n",
       "      <th>4</th>\n",
       "      <td>-0.256398</td>\n",
       "      <td>-0.727298</td>\n",
       "      <td>-1.102539</td>\n",
       "      <td>-0.324655</td>\n",
       "      <td>-1.200836</td>\n",
       "      <td>-0.290620</td>\n",
       "    </tr>\n",
       "    <tr>\n",
       "      <th>5</th>\n",
       "      <td>-1.774322</td>\n",
       "      <td>-0.007858</td>\n",
       "      <td>0.894590</td>\n",
       "      <td>-0.910923</td>\n",
       "      <td>0.431898</td>\n",
       "      <td>-0.081838</td>\n",
       "    </tr>\n",
       "    <tr>\n",
       "      <th>6</th>\n",
       "      <td>-0.559142</td>\n",
       "      <td>0.891015</td>\n",
       "      <td>-0.711141</td>\n",
       "      <td>-0.911832</td>\n",
       "      <td>0.147803</td>\n",
       "      <td>-0.555420</td>\n",
       "    </tr>\n",
       "    <tr>\n",
       "      <th>7</th>\n",
       "      <td>1.435398</td>\n",
       "      <td>0.432076</td>\n",
       "      <td>-0.590849</td>\n",
       "      <td>-1.247978</td>\n",
       "      <td>-1.163597</td>\n",
       "      <td>0.260094</td>\n",
       "    </tr>\n",
       "    <tr>\n",
       "      <th>8</th>\n",
       "      <td>-0.456800</td>\n",
       "      <td>0.963346</td>\n",
       "      <td>-0.665678</td>\n",
       "      <td>-0.970117</td>\n",
       "      <td>0.217863</td>\n",
       "      <td>-0.436512</td>\n",
       "    </tr>\n",
       "    <tr>\n",
       "      <th>9</th>\n",
       "      <td>-0.625290</td>\n",
       "      <td>-0.531073</td>\n",
       "      <td>0.031460</td>\n",
       "      <td>0.281753</td>\n",
       "      <td>-0.567736</td>\n",
       "      <td>1.089282</td>\n",
       "    </tr>\n",
       "    <tr>\n",
       "      <th>10</th>\n",
       "      <td>-0.306426</td>\n",
       "      <td>1.105938</td>\n",
       "      <td>-0.359041</td>\n",
       "      <td>-1.095915</td>\n",
       "      <td>1.441701</td>\n",
       "      <td>1.153126</td>\n",
       "    </tr>\n",
       "    <tr>\n",
       "      <th>11</th>\n",
       "      <td>-0.243464</td>\n",
       "      <td>-0.758194</td>\n",
       "      <td>1.048743</td>\n",
       "      <td>-1.023161</td>\n",
       "      <td>-0.076024</td>\n",
       "      <td>1.609863</td>\n",
       "    </tr>\n",
       "    <tr>\n",
       "      <th>12</th>\n",
       "      <td>-1.849119</td>\n",
       "      <td>0.436257</td>\n",
       "      <td>0.013695</td>\n",
       "      <td>0.219137</td>\n",
       "      <td>0.150364</td>\n",
       "      <td>-0.245694</td>\n",
       "    </tr>\n",
       "    <tr>\n",
       "      <th>13</th>\n",
       "      <td>-0.926995</td>\n",
       "      <td>-0.700755</td>\n",
       "      <td>-0.608836</td>\n",
       "      <td>0.667624</td>\n",
       "      <td>1.378874</td>\n",
       "      <td>-1.628361</td>\n",
       "    </tr>\n",
       "    <tr>\n",
       "      <th>14</th>\n",
       "      <td>0.151844</td>\n",
       "      <td>-1.426281</td>\n",
       "      <td>2.308250</td>\n",
       "      <td>0.598317</td>\n",
       "      <td>0.321308</td>\n",
       "      <td>0.402267</td>\n",
       "    </tr>\n",
       "    <tr>\n",
       "      <th>15</th>\n",
       "      <td>-2.088901</td>\n",
       "      <td>0.190438</td>\n",
       "      <td>1.812878</td>\n",
       "      <td>-0.295285</td>\n",
       "      <td>-0.018721</td>\n",
       "      <td>-0.053757</td>\n",
       "    </tr>\n",
       "    <tr>\n",
       "      <th>16</th>\n",
       "      <td>-1.432197</td>\n",
       "      <td>0.310292</td>\n",
       "      <td>-0.859130</td>\n",
       "      <td>-0.454785</td>\n",
       "      <td>0.671043</td>\n",
       "      <td>-0.154867</td>\n",
       "    </tr>\n",
       "    <tr>\n",
       "      <th>17</th>\n",
       "      <td>-1.321694</td>\n",
       "      <td>-0.105655</td>\n",
       "      <td>-0.067536</td>\n",
       "      <td>2.202306</td>\n",
       "      <td>-1.510068</td>\n",
       "      <td>0.596781</td>\n",
       "    </tr>\n",
       "    <tr>\n",
       "      <th>18</th>\n",
       "      <td>2.964028</td>\n",
       "      <td>0.144345</td>\n",
       "      <td>0.114071</td>\n",
       "      <td>-0.708414</td>\n",
       "      <td>0.244832</td>\n",
       "      <td>-0.024315</td>\n",
       "    </tr>\n",
       "    <tr>\n",
       "      <th>19</th>\n",
       "      <td>-0.359870</td>\n",
       "      <td>-1.787938</td>\n",
       "      <td>2.080937</td>\n",
       "      <td>0.889740</td>\n",
       "      <td>-0.028992</td>\n",
       "      <td>-0.192275</td>\n",
       "    </tr>\n",
       "    <tr>\n",
       "      <th>20</th>\n",
       "      <td>-1.542090</td>\n",
       "      <td>0.653252</td>\n",
       "      <td>0.150083</td>\n",
       "      <td>0.044284</td>\n",
       "      <td>0.360544</td>\n",
       "      <td>0.111031</td>\n",
       "    </tr>\n",
       "    <tr>\n",
       "      <th>21</th>\n",
       "      <td>1.654057</td>\n",
       "      <td>-1.242151</td>\n",
       "      <td>0.619665</td>\n",
       "      <td>-1.090006</td>\n",
       "      <td>0.699306</td>\n",
       "      <td>-0.054448</td>\n",
       "    </tr>\n",
       "    <tr>\n",
       "      <th>22</th>\n",
       "      <td>-1.412202</td>\n",
       "      <td>1.242030</td>\n",
       "      <td>-0.639887</td>\n",
       "      <td>1.057775</td>\n",
       "      <td>0.219130</td>\n",
       "      <td>0.184992</td>\n",
       "    </tr>\n",
       "    <tr>\n",
       "      <th>23</th>\n",
       "      <td>0.371632</td>\n",
       "      <td>-2.112200</td>\n",
       "      <td>0.289825</td>\n",
       "      <td>-0.399821</td>\n",
       "      <td>0.942306</td>\n",
       "      <td>-0.129529</td>\n",
       "    </tr>\n",
       "    <tr>\n",
       "      <th>24</th>\n",
       "      <td>0.119695</td>\n",
       "      <td>-1.296300</td>\n",
       "      <td>-1.517428</td>\n",
       "      <td>1.918585</td>\n",
       "      <td>0.309180</td>\n",
       "      <td>-0.576150</td>\n",
       "    </tr>\n",
       "    <tr>\n",
       "      <th>25</th>\n",
       "      <td>-2.148596</td>\n",
       "      <td>-0.196028</td>\n",
       "      <td>-1.177368</td>\n",
       "      <td>-0.046794</td>\n",
       "      <td>0.180624</td>\n",
       "      <td>-0.987226</td>\n",
       "    </tr>\n",
       "    <tr>\n",
       "      <th>26</th>\n",
       "      <td>-0.297227</td>\n",
       "      <td>-1.170335</td>\n",
       "      <td>-0.644604</td>\n",
       "      <td>2.592508</td>\n",
       "      <td>-0.211499</td>\n",
       "      <td>-0.666977</td>\n",
       "    </tr>\n",
       "    <tr>\n",
       "      <th>27</th>\n",
       "      <td>-0.920483</td>\n",
       "      <td>0.671949</td>\n",
       "      <td>-0.631817</td>\n",
       "      <td>-0.746208</td>\n",
       "      <td>1.021342</td>\n",
       "      <td>0.439675</td>\n",
       "    </tr>\n",
       "    <tr>\n",
       "      <th>28</th>\n",
       "      <td>1.347809</td>\n",
       "      <td>-0.428323</td>\n",
       "      <td>-0.971877</td>\n",
       "      <td>1.219171</td>\n",
       "      <td>1.149898</td>\n",
       "      <td>0.850751</td>\n",
       "    </tr>\n",
       "    <tr>\n",
       "      <th>29</th>\n",
       "      <td>0.143194</td>\n",
       "      <td>0.439922</td>\n",
       "      <td>0.684754</td>\n",
       "      <td>0.534792</td>\n",
       "      <td>0.755314</td>\n",
       "      <td>-1.406291</td>\n",
       "    </tr>\n",
       "    <tr>\n",
       "      <th>...</th>\n",
       "      <td>...</td>\n",
       "      <td>...</td>\n",
       "      <td>...</td>\n",
       "      <td>...</td>\n",
       "      <td>...</td>\n",
       "      <td>...</td>\n",
       "    </tr>\n",
       "    <tr>\n",
       "      <th>50</th>\n",
       "      <td>1.315726</td>\n",
       "      <td>1.652931</td>\n",
       "      <td>2.023806</td>\n",
       "      <td>0.343677</td>\n",
       "      <td>0.201815</td>\n",
       "      <td>-1.065312</td>\n",
       "    </tr>\n",
       "    <tr>\n",
       "      <th>51</th>\n",
       "      <td>0.213707</td>\n",
       "      <td>-1.839501</td>\n",
       "      <td>1.037863</td>\n",
       "      <td>0.166762</td>\n",
       "      <td>-0.521971</td>\n",
       "      <td>-1.334360</td>\n",
       "    </tr>\n",
       "    <tr>\n",
       "      <th>52</th>\n",
       "      <td>0.224013</td>\n",
       "      <td>2.746436</td>\n",
       "      <td>0.665303</td>\n",
       "      <td>0.642751</td>\n",
       "      <td>-1.137848</td>\n",
       "      <td>-0.350216</td>\n",
       "    </tr>\n",
       "    <tr>\n",
       "      <th>53</th>\n",
       "      <td>-0.853237</td>\n",
       "      <td>0.643125</td>\n",
       "      <td>1.303754</td>\n",
       "      <td>-1.435484</td>\n",
       "      <td>1.062436</td>\n",
       "      <td>0.988338</td>\n",
       "    </tr>\n",
       "    <tr>\n",
       "      <th>54</th>\n",
       "      <td>1.476917</td>\n",
       "      <td>-0.870367</td>\n",
       "      <td>-0.306694</td>\n",
       "      <td>0.098339</td>\n",
       "      <td>0.347713</td>\n",
       "      <td>-0.337213</td>\n",
       "    </tr>\n",
       "    <tr>\n",
       "      <th>55</th>\n",
       "      <td>-0.763828</td>\n",
       "      <td>0.746352</td>\n",
       "      <td>-0.802066</td>\n",
       "      <td>-0.795263</td>\n",
       "      <td>0.007684</td>\n",
       "      <td>-0.793237</td>\n",
       "    </tr>\n",
       "    <tr>\n",
       "      <th>56</th>\n",
       "      <td>2.007846</td>\n",
       "      <td>-0.607795</td>\n",
       "      <td>1.595016</td>\n",
       "      <td>-0.814845</td>\n",
       "      <td>-0.414673</td>\n",
       "      <td>-0.664737</td>\n",
       "    </tr>\n",
       "    <tr>\n",
       "      <th>57</th>\n",
       "      <td>-1.259341</td>\n",
       "      <td>-1.896800</td>\n",
       "      <td>-0.460558</td>\n",
       "      <td>-0.881100</td>\n",
       "      <td>-0.536183</td>\n",
       "      <td>0.035972</td>\n",
       "    </tr>\n",
       "    <tr>\n",
       "      <th>58</th>\n",
       "      <td>-0.283164</td>\n",
       "      <td>-0.212922</td>\n",
       "      <td>-1.722260</td>\n",
       "      <td>0.737891</td>\n",
       "      <td>-0.328591</td>\n",
       "      <td>1.016252</td>\n",
       "    </tr>\n",
       "    <tr>\n",
       "      <th>59</th>\n",
       "      <td>1.599255</td>\n",
       "      <td>0.133703</td>\n",
       "      <td>-0.041988</td>\n",
       "      <td>1.552616</td>\n",
       "      <td>-0.034140</td>\n",
       "      <td>0.121554</td>\n",
       "    </tr>\n",
       "    <tr>\n",
       "      <th>60</th>\n",
       "      <td>-1.931466</td>\n",
       "      <td>1.295664</td>\n",
       "      <td>0.187475</td>\n",
       "      <td>1.789983</td>\n",
       "      <td>-0.371608</td>\n",
       "      <td>-0.024744</td>\n",
       "    </tr>\n",
       "    <tr>\n",
       "      <th>61</th>\n",
       "      <td>-1.231795</td>\n",
       "      <td>-1.380353</td>\n",
       "      <td>-1.295991</td>\n",
       "      <td>0.190676</td>\n",
       "      <td>-0.747656</td>\n",
       "      <td>-0.008976</td>\n",
       "    </tr>\n",
       "    <tr>\n",
       "      <th>62</th>\n",
       "      <td>0.534798</td>\n",
       "      <td>-0.665094</td>\n",
       "      <td>0.096594</td>\n",
       "      <td>-1.862708</td>\n",
       "      <td>-0.428884</td>\n",
       "      <td>0.705595</td>\n",
       "    </tr>\n",
       "    <tr>\n",
       "      <th>63</th>\n",
       "      <td>1.783946</td>\n",
       "      <td>-0.653373</td>\n",
       "      <td>-0.170306</td>\n",
       "      <td>-0.076514</td>\n",
       "      <td>0.557892</td>\n",
       "      <td>0.019512</td>\n",
       "    </tr>\n",
       "    <tr>\n",
       "      <th>64</th>\n",
       "      <td>0.006535</td>\n",
       "      <td>1.297258</td>\n",
       "      <td>1.074246</td>\n",
       "      <td>2.096408</td>\n",
       "      <td>1.317060</td>\n",
       "      <td>0.166481</td>\n",
       "    </tr>\n",
       "    <tr>\n",
       "      <th>65</th>\n",
       "      <td>1.074058</td>\n",
       "      <td>0.213011</td>\n",
       "      <td>-0.511525</td>\n",
       "      <td>-1.082354</td>\n",
       "      <td>-0.290058</td>\n",
       "      <td>1.255189</td>\n",
       "    </tr>\n",
       "    <tr>\n",
       "      <th>66</th>\n",
       "      <td>1.026027</td>\n",
       "      <td>0.142751</td>\n",
       "      <td>-0.772700</td>\n",
       "      <td>-1.014840</td>\n",
       "      <td>-1.443836</td>\n",
       "      <td>-0.215540</td>\n",
       "    </tr>\n",
       "    <tr>\n",
       "      <th>67</th>\n",
       "      <td>0.662459</td>\n",
       "      <td>0.386289</td>\n",
       "      <td>-0.142608</td>\n",
       "      <td>-0.197415</td>\n",
       "      <td>1.346053</td>\n",
       "      <td>-1.196555</td>\n",
       "    </tr>\n",
       "    <tr>\n",
       "      <th>68</th>\n",
       "      <td>-0.849970</td>\n",
       "      <td>-1.607474</td>\n",
       "      <td>-0.278708</td>\n",
       "      <td>-1.114238</td>\n",
       "      <td>-0.255943</td>\n",
       "      <td>0.511606</td>\n",
       "    </tr>\n",
       "    <tr>\n",
       "      <th>69</th>\n",
       "      <td>-1.215847</td>\n",
       "      <td>0.771161</td>\n",
       "      <td>1.960867</td>\n",
       "      <td>-0.752332</td>\n",
       "      <td>-0.541961</td>\n",
       "      <td>-0.454310</td>\n",
       "    </tr>\n",
       "    <tr>\n",
       "      <th>70</th>\n",
       "      <td>-1.668713</td>\n",
       "      <td>-2.186126</td>\n",
       "      <td>-0.642409</td>\n",
       "      <td>-0.647962</td>\n",
       "      <td>-0.816422</td>\n",
       "      <td>-0.439662</td>\n",
       "    </tr>\n",
       "    <tr>\n",
       "      <th>71</th>\n",
       "      <td>0.151844</td>\n",
       "      <td>-1.426281</td>\n",
       "      <td>2.308250</td>\n",
       "      <td>0.598317</td>\n",
       "      <td>0.321308</td>\n",
       "      <td>0.402267</td>\n",
       "    </tr>\n",
       "    <tr>\n",
       "      <th>72</th>\n",
       "      <td>-0.456800</td>\n",
       "      <td>0.963346</td>\n",
       "      <td>-0.665678</td>\n",
       "      <td>-0.970117</td>\n",
       "      <td>0.217863</td>\n",
       "      <td>-0.436512</td>\n",
       "    </tr>\n",
       "    <tr>\n",
       "      <th>73</th>\n",
       "      <td>1.637856</td>\n",
       "      <td>1.039343</td>\n",
       "      <td>0.050843</td>\n",
       "      <td>-0.712746</td>\n",
       "      <td>0.892873</td>\n",
       "      <td>-1.478200</td>\n",
       "    </tr>\n",
       "    <tr>\n",
       "      <th>74</th>\n",
       "      <td>2.874130</td>\n",
       "      <td>1.419043</td>\n",
       "      <td>1.342526</td>\n",
       "      <td>1.303215</td>\n",
       "      <td>-0.517580</td>\n",
       "      <td>0.581442</td>\n",
       "    </tr>\n",
       "    <tr>\n",
       "      <th>75</th>\n",
       "      <td>-0.771379</td>\n",
       "      <td>1.161643</td>\n",
       "      <td>0.252609</td>\n",
       "      <td>-0.354479</td>\n",
       "      <td>-0.232756</td>\n",
       "      <td>-0.408430</td>\n",
       "    </tr>\n",
       "    <tr>\n",
       "      <th>76</th>\n",
       "      <td>2.206110</td>\n",
       "      <td>0.940468</td>\n",
       "      <td>-0.488323</td>\n",
       "      <td>-1.646741</td>\n",
       "      <td>-1.756896</td>\n",
       "      <td>-0.259367</td>\n",
       "    </tr>\n",
       "    <tr>\n",
       "      <th>77</th>\n",
       "      <td>0.479996</td>\n",
       "      <td>0.710760</td>\n",
       "      <td>-0.565059</td>\n",
       "      <td>0.779914</td>\n",
       "      <td>-1.162330</td>\n",
       "      <td>0.881598</td>\n",
       "    </tr>\n",
       "    <tr>\n",
       "      <th>78</th>\n",
       "      <td>-1.274443</td>\n",
       "      <td>-1.066217</td>\n",
       "      <td>1.648792</td>\n",
       "      <td>0.000469</td>\n",
       "      <td>-1.017061</td>\n",
       "      <td>0.805585</td>\n",
       "    </tr>\n",
       "    <tr>\n",
       "      <th>79</th>\n",
       "      <td>-1.290644</td>\n",
       "      <td>1.215277</td>\n",
       "      <td>1.079971</td>\n",
       "      <td>0.377729</td>\n",
       "      <td>-0.823494</td>\n",
       "      <td>-0.618166</td>\n",
       "    </tr>\n",
       "  </tbody>\n",
       "</table>\n",
       "<p>80 rows × 6 columns</p>\n",
       "</div>"
      ],
      "text/plain": [
       "         PC1       PC2       PC3       PC4       PC5       PC6\n",
       "0  -1.506993  0.754408 -1.740025  0.675275  0.389510 -0.318723\n",
       "1   0.152973 -0.437972 -0.920689 -0.557793 -0.920597  0.185013\n",
       "2  -0.873722  1.089312  0.207146 -0.296194 -0.302815 -0.527339\n",
       "3  -0.892937  1.188397 -1.467250  0.325568  0.809869  0.394727\n",
       "4  -0.256398 -0.727298 -1.102539 -0.324655 -1.200836 -0.290620\n",
       "5  -1.774322 -0.007858  0.894590 -0.910923  0.431898 -0.081838\n",
       "6  -0.559142  0.891015 -0.711141 -0.911832  0.147803 -0.555420\n",
       "7   1.435398  0.432076 -0.590849 -1.247978 -1.163597  0.260094\n",
       "8  -0.456800  0.963346 -0.665678 -0.970117  0.217863 -0.436512\n",
       "9  -0.625290 -0.531073  0.031460  0.281753 -0.567736  1.089282\n",
       "10 -0.306426  1.105938 -0.359041 -1.095915  1.441701  1.153126\n",
       "11 -0.243464 -0.758194  1.048743 -1.023161 -0.076024  1.609863\n",
       "12 -1.849119  0.436257  0.013695  0.219137  0.150364 -0.245694\n",
       "13 -0.926995 -0.700755 -0.608836  0.667624  1.378874 -1.628361\n",
       "14  0.151844 -1.426281  2.308250  0.598317  0.321308  0.402267\n",
       "15 -2.088901  0.190438  1.812878 -0.295285 -0.018721 -0.053757\n",
       "16 -1.432197  0.310292 -0.859130 -0.454785  0.671043 -0.154867\n",
       "17 -1.321694 -0.105655 -0.067536  2.202306 -1.510068  0.596781\n",
       "18  2.964028  0.144345  0.114071 -0.708414  0.244832 -0.024315\n",
       "19 -0.359870 -1.787938  2.080937  0.889740 -0.028992 -0.192275\n",
       "20 -1.542090  0.653252  0.150083  0.044284  0.360544  0.111031\n",
       "21  1.654057 -1.242151  0.619665 -1.090006  0.699306 -0.054448\n",
       "22 -1.412202  1.242030 -0.639887  1.057775  0.219130  0.184992\n",
       "23  0.371632 -2.112200  0.289825 -0.399821  0.942306 -0.129529\n",
       "24  0.119695 -1.296300 -1.517428  1.918585  0.309180 -0.576150\n",
       "25 -2.148596 -0.196028 -1.177368 -0.046794  0.180624 -0.987226\n",
       "26 -0.297227 -1.170335 -0.644604  2.592508 -0.211499 -0.666977\n",
       "27 -0.920483  0.671949 -0.631817 -0.746208  1.021342  0.439675\n",
       "28  1.347809 -0.428323 -0.971877  1.219171  1.149898  0.850751\n",
       "29  0.143194  0.439922  0.684754  0.534792  0.755314 -1.406291\n",
       "..       ...       ...       ...       ...       ...       ...\n",
       "50  1.315726  1.652931  2.023806  0.343677  0.201815 -1.065312\n",
       "51  0.213707 -1.839501  1.037863  0.166762 -0.521971 -1.334360\n",
       "52  0.224013  2.746436  0.665303  0.642751 -1.137848 -0.350216\n",
       "53 -0.853237  0.643125  1.303754 -1.435484  1.062436  0.988338\n",
       "54  1.476917 -0.870367 -0.306694  0.098339  0.347713 -0.337213\n",
       "55 -0.763828  0.746352 -0.802066 -0.795263  0.007684 -0.793237\n",
       "56  2.007846 -0.607795  1.595016 -0.814845 -0.414673 -0.664737\n",
       "57 -1.259341 -1.896800 -0.460558 -0.881100 -0.536183  0.035972\n",
       "58 -0.283164 -0.212922 -1.722260  0.737891 -0.328591  1.016252\n",
       "59  1.599255  0.133703 -0.041988  1.552616 -0.034140  0.121554\n",
       "60 -1.931466  1.295664  0.187475  1.789983 -0.371608 -0.024744\n",
       "61 -1.231795 -1.380353 -1.295991  0.190676 -0.747656 -0.008976\n",
       "62  0.534798 -0.665094  0.096594 -1.862708 -0.428884  0.705595\n",
       "63  1.783946 -0.653373 -0.170306 -0.076514  0.557892  0.019512\n",
       "64  0.006535  1.297258  1.074246  2.096408  1.317060  0.166481\n",
       "65  1.074058  0.213011 -0.511525 -1.082354 -0.290058  1.255189\n",
       "66  1.026027  0.142751 -0.772700 -1.014840 -1.443836 -0.215540\n",
       "67  0.662459  0.386289 -0.142608 -0.197415  1.346053 -1.196555\n",
       "68 -0.849970 -1.607474 -0.278708 -1.114238 -0.255943  0.511606\n",
       "69 -1.215847  0.771161  1.960867 -0.752332 -0.541961 -0.454310\n",
       "70 -1.668713 -2.186126 -0.642409 -0.647962 -0.816422 -0.439662\n",
       "71  0.151844 -1.426281  2.308250  0.598317  0.321308  0.402267\n",
       "72 -0.456800  0.963346 -0.665678 -0.970117  0.217863 -0.436512\n",
       "73  1.637856  1.039343  0.050843 -0.712746  0.892873 -1.478200\n",
       "74  2.874130  1.419043  1.342526  1.303215 -0.517580  0.581442\n",
       "75 -0.771379  1.161643  0.252609 -0.354479 -0.232756 -0.408430\n",
       "76  2.206110  0.940468 -0.488323 -1.646741 -1.756896 -0.259367\n",
       "77  0.479996  0.710760 -0.565059  0.779914 -1.162330  0.881598\n",
       "78 -1.274443 -1.066217  1.648792  0.000469 -1.017061  0.805585\n",
       "79 -1.290644  1.215277  1.079971  0.377729 -0.823494 -0.618166\n",
       "\n",
       "[80 rows x 6 columns]"
      ]
     },
     "execution_count": 50,
     "metadata": {},
     "output_type": "execute_result"
    }
   ],
   "source": [
    "# Fit the PCA model and transform X6 to get the principal components\n",
    "pca = PCA()\n",
    "df_plot = pd.DataFrame(pca.fit_transform(X6), columns=['PC1', 'PC2', 'PC3', 'PC4', 'PC5', 'PC6'], index=X6.index)\n",
    "df_plot"
   ]
  },
  {
   "cell_type": "code",
   "execution_count": 51,
   "metadata": {},
   "outputs": [
    {
     "data": {
      "image/png": "[encoded data removed]",
      "text/plain": [
       "<Figure size 1008x720 with 3 Axes>"
      ]
     },
     "metadata": {},
     "output_type": "display_data"
    }
   ],
   "source": [
    "fig , ax1 = plt.subplots(figsize=(14,10))\n",
    "\n",
    "ax1.set_xlim(-3.5,3.5)\n",
    "ax1.set_ylim(-3.5,3.5)\n",
    "\n",
    "# Plot Principal Components 1 and 2\n",
    "for i in df_plot.index:\n",
    "    ax1.annotate(i, (df_plot.PC1.loc[i], -df_plot.PC2.loc[i]), ha='center')\n",
    "\n",
    "# Plot reference lines\n",
    "ax1.hlines(0,-3.5,3.5, linestyles='dotted', colors='grey')\n",
    "ax1.vlines(0,-3.5,3.5, linestyles='dotted', colors='grey')\n",
    "\n",
    "ax1.set_xlabel('First Principal Component')\n",
    "ax1.set_ylabel('Second Principal Component')\n",
    "    \n",
    "# Plot Principal Component loading vectors, using a second y-axis.\n",
    "ax2 = ax1.twinx().twiny() \n",
    "\n",
    "ax2.set_ylim(-1,1)\n",
    "ax2.set_xlim(-1,1)\n",
    "ax2.tick_params(axis='y', colors='orange')\n",
    "ax2.set_xlabel('Principal Component loading vectors', color='orange')\n",
    "\n",
    "# Plot labels for vectors. Variable 'a' is a small offset parameter to separate arrow tip and text.\n",
    "a = 1.07  \n",
    "for i in pca_loadings[['V1', 'V2']].index:\n",
    "    ax2.annotate(i, (pca_loadings.V1.loc[i]*a, -pca_loadings.V2.loc[i]*a), color='orange')\n",
    "\n",
    "# Plot vectors\n",
    "ax2.arrow(0,0,pca_loadings.V1[0], -pca_loadings.V2[0])\n",
    "ax2.arrow(0,0,pca_loadings.V1[1], -pca_loadings.V2[1])\n",
    "ax2.arrow(0,0,pca_loadings.V1[2], -pca_loadings.V2[2])\n",
    "ax2.arrow(0,0,pca_loadings.V1[3], -pca_loadings.V2[3]);"
   ]
  },
  {
   "cell_type": "code",
   "execution_count": 52,
   "metadata": {},
   "outputs": [
    {
     "data": {
      "text/plain": [
       "array([1.34116991, 1.07369296, 1.03817995, 0.9387082 , 0.79566836,\n",
       "       0.72960074])"
      ]
     },
     "execution_count": 52,
     "metadata": {},
     "output_type": "execute_result"
    }
   ],
   "source": [
    "# Standard deviation of the six principal components\n",
    "np.sqrt(pca.explained_variance_)"
   ]
  },
  {
   "cell_type": "code",
   "execution_count": 53,
   "metadata": {},
   "outputs": [
    {
     "data": {
      "text/plain": [
       "array([1.79873673, 1.15281658, 1.0778176 , 0.88117308, 0.63308814,\n",
       "       0.53231723])"
      ]
     },
     "execution_count": 53,
     "metadata": {},
     "output_type": "execute_result"
    }
   ],
   "source": [
    "pca.explained_variance_"
   ]
  },
  {
   "cell_type": "code",
   "execution_count": 54,
   "metadata": {},
   "outputs": [
    {
     "data": {
      "text/plain": [
       "array([0.29604209, 0.1897344 , 0.17739081, 0.1450264 , 0.10419576,\n",
       "       0.08761054])"
      ]
     },
     "execution_count": 54,
     "metadata": {},
     "output_type": "execute_result"
    }
   ],
   "source": [
    "pca.explained_variance_ratio_"
   ]
  },
  {
   "cell_type": "code",
   "execution_count": 55,
   "metadata": {},
   "outputs": [
    {
     "data": {
      "image/png": "[encoded data removed]",
      "text/plain": [
       "<Figure size 720x504 with 1 Axes>"
      ]
     },
     "metadata": {
      "needs_background": "light"
     },
     "output_type": "display_data"
    }
   ],
   "source": [
    "plt.figure(figsize=(10,7))\n",
    "\n",
    "plt.plot([1,2,3,4,5,6], pca.explained_variance_ratio_, '-o', label='Individual component')\n",
    "plt.plot([1,2,3,4,5,6], np.cumsum(pca.explained_variance_ratio_), '-s', label='Cumulative')\n",
    "\n",
    "plt.ylabel('Proportion of Variance Explained')\n",
    "plt.xlabel('Principal Component')\n",
    "plt.xlim(0.75,4.25)\n",
    "plt.ylim(0,1.05)\n",
    "plt.xticks([1,2,3,4,5,6])\n",
    "plt.legend(loc=2);"
   ]
  },
  {
   "cell_type": "code",
   "execution_count": 56,
   "metadata": {},
   "outputs": [],
   "source": [
    "array7 = dataset.values\n",
    "X7 = array7[:,:]"
   ]
  },
  {
   "cell_type": "code",
   "execution_count": 57,
   "metadata": {},
   "outputs": [
    {
     "data": {
      "text/plain": [
       "KMeans(algorithm='auto', copy_x=True, init='k-means++', max_iter=300,\n",
       "    n_clusters=2, n_init=20, n_jobs=None, precompute_distances='auto',\n",
       "    random_state=None, tol=0.0001, verbose=0)"
      ]
     },
     "execution_count": 57,
     "metadata": {},
     "output_type": "execute_result"
    }
   ],
   "source": [
    "km1 = KMeans(n_clusters=2, n_init=20)\n",
    "km1.fit(X7)"
   ]
  },
  {
   "cell_type": "code",
   "execution_count": 58,
   "metadata": {},
   "outputs": [
    {
     "data": {
      "text/plain": [
       "array([0, 0, 0, 0, 0, 0, 0, 1, 0, 0, 1, 1, 0, 0, 1, 0, 0, 0, 1, 0, 0, 1,\n",
       "       0, 0, 0, 0, 0, 1, 1, 0, 0, 1, 1, 0, 0, 0, 1, 1, 1, 0, 0, 0, 1, 0,\n",
       "       1, 0, 0, 1, 0, 1, 1, 0, 1, 1, 1, 0, 1, 0, 0, 1, 0, 0, 1, 1, 1, 1,\n",
       "       0, 1, 0, 0, 0, 1, 0, 1, 1, 0, 1, 1, 0, 0])"
      ]
     },
     "execution_count": 58,
     "metadata": {},
     "output_type": "execute_result"
    }
   ],
   "source": [
    "km1.labels_"
   ]
  },
  {
   "cell_type": "code",
   "execution_count": 59,
   "metadata": {},
   "outputs": [
    {
     "data": {
      "text/plain": [
       "KMeans(algorithm='auto', copy_x=True, init='k-means++', max_iter=300,\n",
       "    n_clusters=3, n_init=20, n_jobs=None, precompute_distances='auto',\n",
       "    random_state=None, tol=0.0001, verbose=0)"
      ]
     },
     "execution_count": 59,
     "metadata": {},
     "output_type": "execute_result"
    }
   ],
   "source": [
    "np.random.seed(4)\n",
    "km2 = KMeans(n_clusters=3, n_init=20)\n",
    "km2.fit(X7)"
   ]
  },
  {
   "cell_type": "code",
   "execution_count": 60,
   "metadata": {},
   "outputs": [
    {
     "data": {
      "text/plain": [
       "0    41\n",
       "2    24\n",
       "1    15\n",
       "dtype: int64"
      ]
     },
     "execution_count": 60,
     "metadata": {},
     "output_type": "execute_result"
    }
   ],
   "source": [
    "pd.Series(km2.labels_).value_counts()"
   ]
  },
  {
   "cell_type": "code",
   "execution_count": 61,
   "metadata": {},
   "outputs": [
    {
     "data": {
      "text/plain": [
       "array([[26.92682927,  1.63414634,  0.75609756,  0.90243902,  0.31707317,\n",
       "         0.48780488],\n",
       "       [20.26666667,  1.13333333,  0.46666667,  1.13333333,  0.26666667,\n",
       "         0.66666667],\n",
       "       [33.625     ,  2.04166667,  0.54166667,  1.08333333,  0.54166667,\n",
       "         0.66666667]])"
      ]
     },
     "execution_count": 61,
     "metadata": {},
     "output_type": "execute_result"
    }
   ],
   "source": [
    "km2.cluster_centers_"
   ]
  },
  {
   "cell_type": "code",
   "execution_count": 62,
   "metadata": {},
   "outputs": [
    {
     "data": {
      "text/plain": [
       "array([1, 0, 0, 0, 1, 0, 0, 2, 0, 0, 2, 2, 1, 1, 0, 0, 0, 1, 2, 0, 0, 2,\n",
       "       0, 0, 1, 1, 1, 0, 2, 0, 0, 2, 2, 0, 0, 0, 2, 2, 2, 0, 0, 1, 2, 1,\n",
       "       2, 0, 0, 2, 0, 0, 2, 1, 0, 2, 0, 0, 2, 1, 0, 0, 1, 1, 2, 2, 2, 2,\n",
       "       0, 0, 0, 0, 1, 0, 0, 2, 2, 0, 2, 0, 0, 0])"
      ]
     },
     "execution_count": 62,
     "metadata": {},
     "output_type": "execute_result"
    }
   ],
   "source": [
    "km2.labels_"
   ]
  },
  {
   "cell_type": "code",
   "execution_count": 63,
   "metadata": {},
   "outputs": [
    {
     "data": {
      "text/plain": [
       "462.6520325203252"
      ]
     },
     "execution_count": 63,
     "metadata": {},
     "output_type": "execute_result"
    }
   ],
   "source": [
    "# Sum of distances of samples to their closest cluster center.\n",
    "km2.inertia_"
   ]
  },
  {
   "cell_type": "code",
   "execution_count": 64,
   "metadata": {},
   "outputs": [
    {
     "data": {
      "image/png": "[encoded data removed]",
      "text/plain": [
       "<Figure size 1584x360 with 2 Axes>"
      ]
     },
     "metadata": {
      "needs_background": "light"
     },
     "output_type": "display_data"
    }
   ],
   "source": [
    "\n",
    "fig, (ax1, ax2) = plt.subplots(1,2, figsize=(22,5))\n",
    "\n",
    "ax1.scatter(X7[:,0], X7[:,1], s=200, c=km1.labels_, cmap=plt.cm.prism, alpha=.4) \n",
    "ax1.set_title('K-Means Clustering Results with K=2')\n",
    "ax1.scatter(km1.cluster_centers_[:,0], km1.cluster_centers_[:,1], marker='+', s=100, c='k', linewidth=2)\n",
    "\n",
    "ax2.scatter(X7[:,0], X7[:,1], s=200, c=km2.labels_, cmap=plt.cm.prism, alpha=.4) \n",
    "ax2.set_title('K-Means Clustering Results with K=3')\n",
    "ax2.scatter(km2.cluster_centers_[:,0], km2.cluster_centers_[:,1], marker='+', s=100, c='k', linewidth=2);"
   ]
  },
  {
   "cell_type": "markdown",
   "metadata": {},
   "source": [
    "As an addition, I have included the clustered groups with one more graph. this one has 'Age' on the X axis and 'Caesarian' on the Y axis. This time I do not include their centroids."
   ]
  },
  {
   "cell_type": "code",
   "execution_count": 65,
   "metadata": {},
   "outputs": [
    {
     "data": {
      "text/plain": [
       "Text(0.5, 1.0, 'K-Means Clustering Results with K=3')"
      ]
     },
     "execution_count": 65,
     "metadata": {},
     "output_type": "execute_result"
    },
    {
     "data": {
      "image/png": "[encoded data removed]",
      "text/plain": [
       "<Figure size 1440x144 with 2 Axes>"
      ]
     },
     "metadata": {
      "needs_background": "light"
     },
     "output_type": "display_data"
    }
   ],
   "source": [
    "fig, (ax1, ax2) = plt.subplots(1,2, figsize=(20,2))\n",
    "\n",
    "ax1.scatter(X7[:,0], X7[:,5], s=200, c=km1.labels_, cmap=plt.cm.prism, alpha=.3) \n",
    "ax1.set_title('K-Means Clustering Results with K=2')\n",
    "\n",
    "\n",
    "ax2.scatter(X7[:,0], X7[:,5], s=200, c=km2.labels_, cmap=plt.cm.prism, alpha=.3) \n",
    "ax2.set_title('K-Means Clustering Results with K=3')\n"
   ]
  },
  {
   "cell_type": "code",
   "execution_count": null,
   "metadata": {},
   "outputs": [],
   "source": []
  }
 ],
 "metadata": {
  "kernelspec": {
   "display_name": "Python 3",
   "language": "python",
   "name": "python3"
  },
  "language_info": {
   "codemirror_mode": {
    "name": "ipython",
    "version": 3
   },
   "file_extension": ".py",
   "mimetype": "text/x-python",
   "name": "python",
   "nbconvert_exporter": "python",
   "pygments_lexer": "ipython3",
   "version": "3.7.1"
  }
 },
 "nbformat": 4,
 "nbformat_minor": 2
}
